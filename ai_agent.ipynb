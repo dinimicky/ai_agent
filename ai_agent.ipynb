{
 "cells": [
  {
   "cell_type": "code",
   "execution_count": 2,
   "metadata": {
    "ExecuteTime": {
     "end_time": "2024-04-07T12:35:15.769247Z",
     "start_time": "2024-04-07T12:35:06.328468Z"
    }
   },
   "outputs": [
    {
     "name": "stdout",
     "output_type": "stream",
     "text": [
      "Looking in indexes: http://mirrors.aliyun.com/pypi/simple/\r\n",
      "Requirement already satisfied: llama-index in /usr/local/Caskroom/miniconda/base/envs/llama/lib/python3.10/site-packages (0.10.27)\r\n",
      "Requirement already satisfied: langchain in /usr/local/Caskroom/miniconda/base/envs/llama/lib/python3.10/site-packages (0.1.13)\r\n",
      "Requirement already satisfied: llama-index-llms-openai-like in /usr/local/Caskroom/miniconda/base/envs/llama/lib/python3.10/site-packages (0.1.3)\r\n",
      "Requirement already satisfied: llama-index-embeddings-huggingface in /usr/local/Caskroom/miniconda/base/envs/llama/lib/python3.10/site-packages (0.2.0)\r\n",
      "Requirement already satisfied: llama-index-agent-openai<0.3.0,>=0.1.4 in /usr/local/Caskroom/miniconda/base/envs/llama/lib/python3.10/site-packages (from llama-index) (0.2.2)\r\n",
      "Requirement already satisfied: llama-index-cli<0.2.0,>=0.1.2 in /usr/local/Caskroom/miniconda/base/envs/llama/lib/python3.10/site-packages (from llama-index) (0.1.11)\r\n",
      "Requirement already satisfied: llama-index-core<0.11.0,>=0.10.27 in /usr/local/Caskroom/miniconda/base/envs/llama/lib/python3.10/site-packages (from llama-index) (0.10.27)\r\n",
      "Requirement already satisfied: llama-index-embeddings-openai<0.2.0,>=0.1.5 in /usr/local/Caskroom/miniconda/base/envs/llama/lib/python3.10/site-packages (from llama-index) (0.1.7)\r\n",
      "Requirement already satisfied: llama-index-indices-managed-llama-cloud<0.2.0,>=0.1.2 in /usr/local/Caskroom/miniconda/base/envs/llama/lib/python3.10/site-packages (from llama-index) (0.1.5)\r\n",
      "Requirement already satisfied: llama-index-legacy<0.10.0,>=0.9.48 in /usr/local/Caskroom/miniconda/base/envs/llama/lib/python3.10/site-packages (from llama-index) (0.9.48)\r\n",
      "Requirement already satisfied: llama-index-llms-openai<0.2.0,>=0.1.13 in /usr/local/Caskroom/miniconda/base/envs/llama/lib/python3.10/site-packages (from llama-index) (0.1.14)\r\n",
      "Requirement already satisfied: llama-index-multi-modal-llms-openai<0.2.0,>=0.1.3 in /usr/local/Caskroom/miniconda/base/envs/llama/lib/python3.10/site-packages (from llama-index) (0.1.4)\r\n",
      "Requirement already satisfied: llama-index-program-openai<0.2.0,>=0.1.3 in /usr/local/Caskroom/miniconda/base/envs/llama/lib/python3.10/site-packages (from llama-index) (0.1.5)\r\n",
      "Requirement already satisfied: llama-index-question-gen-openai<0.2.0,>=0.1.2 in /usr/local/Caskroom/miniconda/base/envs/llama/lib/python3.10/site-packages (from llama-index) (0.1.3)\r\n",
      "Requirement already satisfied: llama-index-readers-file<0.2.0,>=0.1.4 in /usr/local/Caskroom/miniconda/base/envs/llama/lib/python3.10/site-packages (from llama-index) (0.1.13)\r\n",
      "Requirement already satisfied: llama-index-readers-llama-parse<0.2.0,>=0.1.2 in /usr/local/Caskroom/miniconda/base/envs/llama/lib/python3.10/site-packages (from llama-index) (0.1.4)\r\n",
      "Requirement already satisfied: PyYAML>=5.3 in /usr/local/Caskroom/miniconda/base/envs/llama/lib/python3.10/site-packages (from langchain) (6.0.1)\r\n",
      "Requirement already satisfied: SQLAlchemy<3,>=1.4 in /usr/local/Caskroom/miniconda/base/envs/llama/lib/python3.10/site-packages (from langchain) (2.0.28)\r\n",
      "Requirement already satisfied: aiohttp<4.0.0,>=3.8.3 in /usr/local/Caskroom/miniconda/base/envs/llama/lib/python3.10/site-packages (from langchain) (3.9.3)\r\n",
      "Requirement already satisfied: async-timeout<5.0.0,>=4.0.0 in /usr/local/Caskroom/miniconda/base/envs/llama/lib/python3.10/site-packages (from langchain) (4.0.3)\r\n",
      "Requirement already satisfied: dataclasses-json<0.7,>=0.5.7 in /usr/local/Caskroom/miniconda/base/envs/llama/lib/python3.10/site-packages (from langchain) (0.6.4)\r\n",
      "Requirement already satisfied: jsonpatch<2.0,>=1.33 in /usr/local/Caskroom/miniconda/base/envs/llama/lib/python3.10/site-packages (from langchain) (1.33)\r\n",
      "Requirement already satisfied: langchain-community<0.1,>=0.0.29 in /usr/local/Caskroom/miniconda/base/envs/llama/lib/python3.10/site-packages (from langchain) (0.0.29)\r\n",
      "Requirement already satisfied: langchain-core<0.2.0,>=0.1.33 in /usr/local/Caskroom/miniconda/base/envs/llama/lib/python3.10/site-packages (from langchain) (0.1.33)\r\n",
      "Requirement already satisfied: langchain-text-splitters<0.1,>=0.0.1 in /usr/local/Caskroom/miniconda/base/envs/llama/lib/python3.10/site-packages (from langchain) (0.0.1)\r\n",
      "Requirement already satisfied: langsmith<0.2.0,>=0.1.17 in /usr/local/Caskroom/miniconda/base/envs/llama/lib/python3.10/site-packages (from langchain) (0.1.31)\r\n",
      "Requirement already satisfied: numpy<2,>=1 in /usr/local/Caskroom/miniconda/base/envs/llama/lib/python3.10/site-packages (from langchain) (1.24.4)\r\n",
      "Requirement already satisfied: pydantic<3,>=1 in /usr/local/Caskroom/miniconda/base/envs/llama/lib/python3.10/site-packages (from langchain) (2.6.4)\r\n",
      "Requirement already satisfied: requests<3,>=2 in /usr/local/Caskroom/miniconda/base/envs/llama/lib/python3.10/site-packages (from langchain) (2.31.0)\r\n",
      "Requirement already satisfied: tenacity<9.0.0,>=8.1.0 in /usr/local/Caskroom/miniconda/base/envs/llama/lib/python3.10/site-packages (from langchain) (8.2.3)\r\n",
      "Requirement already satisfied: transformers<5.0.0,>=4.37.0 in /usr/local/Caskroom/miniconda/base/envs/llama/lib/python3.10/site-packages (from llama-index-llms-openai-like) (4.38.2)\r\n",
      "Requirement already satisfied: huggingface-hub>=0.19.0 in /usr/local/Caskroom/miniconda/base/envs/llama/lib/python3.10/site-packages (from huggingface-hub[inference]>=0.19.0->llama-index-embeddings-huggingface) (0.21.4)\r\n",
      "Requirement already satisfied: sentence-transformers<3.0.0,>=2.6.1 in /usr/local/Caskroom/miniconda/base/envs/llama/lib/python3.10/site-packages (from llama-index-embeddings-huggingface) (2.6.1)\r\n",
      "Requirement already satisfied: aiosignal>=1.1.2 in /usr/local/Caskroom/miniconda/base/envs/llama/lib/python3.10/site-packages (from aiohttp<4.0.0,>=3.8.3->langchain) (1.3.1)\r\n",
      "Requirement already satisfied: attrs>=17.3.0 in /usr/local/Caskroom/miniconda/base/envs/llama/lib/python3.10/site-packages (from aiohttp<4.0.0,>=3.8.3->langchain) (23.2.0)\r\n",
      "Requirement already satisfied: frozenlist>=1.1.1 in /usr/local/Caskroom/miniconda/base/envs/llama/lib/python3.10/site-packages (from aiohttp<4.0.0,>=3.8.3->langchain) (1.4.1)\r\n",
      "Requirement already satisfied: multidict<7.0,>=4.5 in /usr/local/Caskroom/miniconda/base/envs/llama/lib/python3.10/site-packages (from aiohttp<4.0.0,>=3.8.3->langchain) (6.0.5)\r\n",
      "Requirement already satisfied: yarl<2.0,>=1.0 in /usr/local/Caskroom/miniconda/base/envs/llama/lib/python3.10/site-packages (from aiohttp<4.0.0,>=3.8.3->langchain) (1.9.4)\r\n",
      "Requirement already satisfied: marshmallow<4.0.0,>=3.18.0 in /usr/local/Caskroom/miniconda/base/envs/llama/lib/python3.10/site-packages (from dataclasses-json<0.7,>=0.5.7->langchain) (3.21.1)\r\n",
      "Requirement already satisfied: typing-inspect<1,>=0.4.0 in /usr/local/Caskroom/miniconda/base/envs/llama/lib/python3.10/site-packages (from dataclasses-json<0.7,>=0.5.7->langchain) (0.9.0)\r\n",
      "Requirement already satisfied: filelock in /usr/local/Caskroom/miniconda/base/envs/llama/lib/python3.10/site-packages (from huggingface-hub>=0.19.0->huggingface-hub[inference]>=0.19.0->llama-index-embeddings-huggingface) (3.13.1)\r\n",
      "Requirement already satisfied: fsspec>=2023.5.0 in /usr/local/Caskroom/miniconda/base/envs/llama/lib/python3.10/site-packages (from huggingface-hub>=0.19.0->huggingface-hub[inference]>=0.19.0->llama-index-embeddings-huggingface) (2024.3.0)\r\n",
      "Requirement already satisfied: tqdm>=4.42.1 in /usr/local/Caskroom/miniconda/base/envs/llama/lib/python3.10/site-packages (from huggingface-hub>=0.19.0->huggingface-hub[inference]>=0.19.0->llama-index-embeddings-huggingface) (4.66.2)\r\n",
      "Requirement already satisfied: typing-extensions>=3.7.4.3 in /usr/local/Caskroom/miniconda/base/envs/llama/lib/python3.10/site-packages (from huggingface-hub>=0.19.0->huggingface-hub[inference]>=0.19.0->llama-index-embeddings-huggingface) (4.10.0)\r\n",
      "Requirement already satisfied: packaging>=20.9 in /usr/local/Caskroom/miniconda/base/envs/llama/lib/python3.10/site-packages (from huggingface-hub>=0.19.0->huggingface-hub[inference]>=0.19.0->llama-index-embeddings-huggingface) (23.2)\r\n",
      "Requirement already satisfied: jsonpointer>=1.9 in /usr/local/Caskroom/miniconda/base/envs/llama/lib/python3.10/site-packages (from jsonpatch<2.0,>=1.33->langchain) (2.4)\r\n",
      "Requirement already satisfied: anyio<5,>=3 in /usr/local/Caskroom/miniconda/base/envs/llama/lib/python3.10/site-packages (from langchain-core<0.2.0,>=0.1.33->langchain) (3.7.1)\r\n",
      "Requirement already satisfied: orjson<4.0.0,>=3.9.14 in /usr/local/Caskroom/miniconda/base/envs/llama/lib/python3.10/site-packages (from langsmith<0.2.0,>=0.1.17->langchain) (3.9.15)\r\n",
      "Requirement already satisfied: openai>=1.14.0 in /usr/local/Caskroom/miniconda/base/envs/llama/lib/python3.10/site-packages (from llama-index-agent-openai<0.3.0,>=0.1.4->llama-index) (1.16.2)\r\n",
      "Requirement already satisfied: deprecated>=1.2.9.3 in /usr/local/Caskroom/miniconda/base/envs/llama/lib/python3.10/site-packages (from llama-index-core<0.11.0,>=0.10.27->llama-index) (1.2.14)\r\n",
      "Requirement already satisfied: dirtyjson<2.0.0,>=1.0.8 in /usr/local/Caskroom/miniconda/base/envs/llama/lib/python3.10/site-packages (from llama-index-core<0.11.0,>=0.10.27->llama-index) (1.0.8)\r\n",
      "Requirement already satisfied: httpx in /usr/local/Caskroom/miniconda/base/envs/llama/lib/python3.10/site-packages (from llama-index-core<0.11.0,>=0.10.27->llama-index) (0.27.0)\r\n",
      "Requirement already satisfied: llamaindex-py-client<0.2.0,>=0.1.16 in /usr/local/Caskroom/miniconda/base/envs/llama/lib/python3.10/site-packages (from llama-index-core<0.11.0,>=0.10.27->llama-index) (0.1.16)\r\n",
      "Requirement already satisfied: nest-asyncio<2.0.0,>=1.5.8 in /usr/local/Caskroom/miniconda/base/envs/llama/lib/python3.10/site-packages (from llama-index-core<0.11.0,>=0.10.27->llama-index) (1.6.0)\r\n",
      "Requirement already satisfied: networkx>=3.0 in /usr/local/Caskroom/miniconda/base/envs/llama/lib/python3.10/site-packages (from llama-index-core<0.11.0,>=0.10.27->llama-index) (3.2.1)\r\n",
      "Requirement already satisfied: nltk<4.0.0,>=3.8.1 in /usr/local/Caskroom/miniconda/base/envs/llama/lib/python3.10/site-packages (from llama-index-core<0.11.0,>=0.10.27->llama-index) (3.8.1)\r\n",
      "Requirement already satisfied: pandas in /usr/local/Caskroom/miniconda/base/envs/llama/lib/python3.10/site-packages (from llama-index-core<0.11.0,>=0.10.27->llama-index) (2.2.1)\r\n",
      "Requirement already satisfied: pillow>=9.0.0 in /usr/local/Caskroom/miniconda/base/envs/llama/lib/python3.10/site-packages (from llama-index-core<0.11.0,>=0.10.27->llama-index) (10.3.0)\r\n",
      "Requirement already satisfied: tiktoken>=0.3.3 in /usr/local/Caskroom/miniconda/base/envs/llama/lib/python3.10/site-packages (from llama-index-core<0.11.0,>=0.10.27->llama-index) (0.6.0)\r\n",
      "Requirement already satisfied: wrapt in /usr/local/Caskroom/miniconda/base/envs/llama/lib/python3.10/site-packages (from llama-index-core<0.11.0,>=0.10.27->llama-index) (1.16.0)\r\n",
      "Requirement already satisfied: beautifulsoup4<5.0.0,>=4.12.3 in /usr/local/Caskroom/miniconda/base/envs/llama/lib/python3.10/site-packages (from llama-index-readers-file<0.2.0,>=0.1.4->llama-index) (4.12.3)\r\n",
      "Requirement already satisfied: pymupdf<2.0.0,>=1.23.21 in /usr/local/Caskroom/miniconda/base/envs/llama/lib/python3.10/site-packages (from llama-index-readers-file<0.2.0,>=0.1.4->llama-index) (1.24.1)\r\n",
      "Requirement already satisfied: pypdf<5.0.0,>=4.0.1 in /usr/local/Caskroom/miniconda/base/envs/llama/lib/python3.10/site-packages (from llama-index-readers-file<0.2.0,>=0.1.4->llama-index) (4.1.0)\r\n",
      "Requirement already satisfied: striprtf<0.0.27,>=0.0.26 in /usr/local/Caskroom/miniconda/base/envs/llama/lib/python3.10/site-packages (from llama-index-readers-file<0.2.0,>=0.1.4->llama-index) (0.0.26)\r\n",
      "Requirement already satisfied: llama-parse<0.5.0,>=0.4.0 in /usr/local/Caskroom/miniconda/base/envs/llama/lib/python3.10/site-packages (from llama-index-readers-llama-parse<0.2.0,>=0.1.2->llama-index) (0.4.0)\r\n",
      "Requirement already satisfied: annotated-types>=0.4.0 in /usr/local/Caskroom/miniconda/base/envs/llama/lib/python3.10/site-packages (from pydantic<3,>=1->langchain) (0.6.0)\r\n",
      "Requirement already satisfied: pydantic-core==2.16.3 in /usr/local/Caskroom/miniconda/base/envs/llama/lib/python3.10/site-packages (from pydantic<3,>=1->langchain) (2.16.3)\r\n",
      "Requirement already satisfied: charset-normalizer<4,>=2 in /usr/local/Caskroom/miniconda/base/envs/llama/lib/python3.10/site-packages (from requests<3,>=2->langchain) (3.3.2)\r\n",
      "Requirement already satisfied: idna<4,>=2.5 in /usr/local/Caskroom/miniconda/base/envs/llama/lib/python3.10/site-packages (from requests<3,>=2->langchain) (3.6)\r\n",
      "Requirement already satisfied: urllib3<3,>=1.21.1 in /usr/local/Caskroom/miniconda/base/envs/llama/lib/python3.10/site-packages (from requests<3,>=2->langchain) (2.2.1)\r\n",
      "Requirement already satisfied: certifi>=2017.4.17 in /usr/local/Caskroom/miniconda/base/envs/llama/lib/python3.10/site-packages (from requests<3,>=2->langchain) (2024.2.2)\r\n",
      "Requirement already satisfied: torch>=1.11.0 in /usr/local/Caskroom/miniconda/base/envs/llama/lib/python3.10/site-packages (from sentence-transformers<3.0.0,>=2.6.1->llama-index-embeddings-huggingface) (2.1.2)\r\n",
      "Requirement already satisfied: scikit-learn in /usr/local/Caskroom/miniconda/base/envs/llama/lib/python3.10/site-packages (from sentence-transformers<3.0.0,>=2.6.1->llama-index-embeddings-huggingface) (1.4.1.post1)\r\n",
      "Requirement already satisfied: scipy in /usr/local/Caskroom/miniconda/base/envs/llama/lib/python3.10/site-packages (from sentence-transformers<3.0.0,>=2.6.1->llama-index-embeddings-huggingface) (1.12.0)\r\n",
      "Requirement already satisfied: greenlet!=0.4.17 in /usr/local/Caskroom/miniconda/base/envs/llama/lib/python3.10/site-packages (from SQLAlchemy<3,>=1.4->langchain) (3.0.3)\r\n",
      "Requirement already satisfied: regex!=2019.12.17 in /usr/local/Caskroom/miniconda/base/envs/llama/lib/python3.10/site-packages (from transformers<5.0.0,>=4.37.0->llama-index-llms-openai-like) (2023.12.25)\r\n",
      "Requirement already satisfied: tokenizers<0.19,>=0.14 in /usr/local/Caskroom/miniconda/base/envs/llama/lib/python3.10/site-packages (from transformers<5.0.0,>=4.37.0->llama-index-llms-openai-like) (0.15.2)\r\n",
      "Requirement already satisfied: safetensors>=0.4.1 in /usr/local/Caskroom/miniconda/base/envs/llama/lib/python3.10/site-packages (from transformers<5.0.0,>=4.37.0->llama-index-llms-openai-like) (0.4.2)\r\n",
      "Requirement already satisfied: sniffio>=1.1 in /usr/local/Caskroom/miniconda/base/envs/llama/lib/python3.10/site-packages (from anyio<5,>=3->langchain-core<0.2.0,>=0.1.33->langchain) (1.3.1)\r\n",
      "Requirement already satisfied: exceptiongroup in /usr/local/Caskroom/miniconda/base/envs/llama/lib/python3.10/site-packages (from anyio<5,>=3->langchain-core<0.2.0,>=0.1.33->langchain) (1.2.0)\r\n",
      "Requirement already satisfied: soupsieve>1.2 in /usr/local/Caskroom/miniconda/base/envs/llama/lib/python3.10/site-packages (from beautifulsoup4<5.0.0,>=4.12.3->llama-index-readers-file<0.2.0,>=0.1.4->llama-index) (2.5)\r\n",
      "Requirement already satisfied: httpcore==1.* in /usr/local/Caskroom/miniconda/base/envs/llama/lib/python3.10/site-packages (from httpx->llama-index-core<0.11.0,>=0.10.27->llama-index) (1.0.4)\r\n",
      "Requirement already satisfied: h11<0.15,>=0.13 in /usr/local/Caskroom/miniconda/base/envs/llama/lib/python3.10/site-packages (from httpcore==1.*->httpx->llama-index-core<0.11.0,>=0.10.27->llama-index) (0.14.0)\r\n",
      "Requirement already satisfied: click in /usr/local/Caskroom/miniconda/base/envs/llama/lib/python3.10/site-packages (from nltk<4.0.0,>=3.8.1->llama-index-core<0.11.0,>=0.10.27->llama-index) (8.1.7)\r\n",
      "Requirement already satisfied: joblib in /usr/local/Caskroom/miniconda/base/envs/llama/lib/python3.10/site-packages (from nltk<4.0.0,>=3.8.1->llama-index-core<0.11.0,>=0.10.27->llama-index) (1.3.2)\r\n",
      "Requirement already satisfied: distro<2,>=1.7.0 in /usr/local/Caskroom/miniconda/base/envs/llama/lib/python3.10/site-packages (from openai>=1.14.0->llama-index-agent-openai<0.3.0,>=0.1.4->llama-index) (1.9.0)\r\n",
      "Requirement already satisfied: PyMuPDFb==1.24.1 in /usr/local/Caskroom/miniconda/base/envs/llama/lib/python3.10/site-packages (from pymupdf<2.0.0,>=1.23.21->llama-index-readers-file<0.2.0,>=0.1.4->llama-index) (1.24.1)\r\n",
      "Requirement already satisfied: sympy in /usr/local/Caskroom/miniconda/base/envs/llama/lib/python3.10/site-packages (from torch>=1.11.0->sentence-transformers<3.0.0,>=2.6.1->llama-index-embeddings-huggingface) (1.12)\r\n",
      "Requirement already satisfied: jinja2 in /usr/local/Caskroom/miniconda/base/envs/llama/lib/python3.10/site-packages (from torch>=1.11.0->sentence-transformers<3.0.0,>=2.6.1->llama-index-embeddings-huggingface) (3.1.3)\r\n",
      "Requirement already satisfied: mypy-extensions>=0.3.0 in /usr/local/Caskroom/miniconda/base/envs/llama/lib/python3.10/site-packages (from typing-inspect<1,>=0.4.0->dataclasses-json<0.7,>=0.5.7->langchain) (1.0.0)\r\n",
      "Requirement already satisfied: python-dateutil>=2.8.2 in /usr/local/Caskroom/miniconda/base/envs/llama/lib/python3.10/site-packages (from pandas->llama-index-core<0.11.0,>=0.10.27->llama-index) (2.9.0)\r\n",
      "Requirement already satisfied: pytz>=2020.1 in /usr/local/Caskroom/miniconda/base/envs/llama/lib/python3.10/site-packages (from pandas->llama-index-core<0.11.0,>=0.10.27->llama-index) (2024.1)\r\n",
      "Requirement already satisfied: tzdata>=2022.7 in /usr/local/Caskroom/miniconda/base/envs/llama/lib/python3.10/site-packages (from pandas->llama-index-core<0.11.0,>=0.10.27->llama-index) (2024.1)\r\n",
      "Requirement already satisfied: threadpoolctl>=2.0.0 in /usr/local/Caskroom/miniconda/base/envs/llama/lib/python3.10/site-packages (from scikit-learn->sentence-transformers<3.0.0,>=2.6.1->llama-index-embeddings-huggingface) (3.4.0)\r\n",
      "Requirement already satisfied: six>=1.5 in /usr/local/Caskroom/miniconda/base/envs/llama/lib/python3.10/site-packages (from python-dateutil>=2.8.2->pandas->llama-index-core<0.11.0,>=0.10.27->llama-index) (1.16.0)\r\n",
      "Requirement already satisfied: MarkupSafe>=2.0 in /usr/local/Caskroom/miniconda/base/envs/llama/lib/python3.10/site-packages (from jinja2->torch>=1.11.0->sentence-transformers<3.0.0,>=2.6.1->llama-index-embeddings-huggingface) (2.1.5)\r\n",
      "Requirement already satisfied: mpmath>=0.19 in /usr/local/Caskroom/miniconda/base/envs/llama/lib/python3.10/site-packages (from sympy->torch>=1.11.0->sentence-transformers<3.0.0,>=2.6.1->llama-index-embeddings-huggingface) (1.3.0)\r\n",
      "Looking in indexes: http://mirrors.aliyun.com/pypi/simple/\r\n",
      "Requirement already satisfied: EbookLib in /usr/local/Caskroom/miniconda/base/envs/llama/lib/python3.10/site-packages (0.18)\r\n",
      "Requirement already satisfied: html2text in /usr/local/Caskroom/miniconda/base/envs/llama/lib/python3.10/site-packages (2024.2.26)\r\n",
      "Requirement already satisfied: lxml in /usr/local/Caskroom/miniconda/base/envs/llama/lib/python3.10/site-packages (from EbookLib) (5.1.0)\r\n",
      "Requirement already satisfied: six in /usr/local/Caskroom/miniconda/base/envs/llama/lib/python3.10/site-packages (from EbookLib) (1.16.0)\r\n"
     ]
    }
   ],
   "source": [
    "! pip install llama-index langchain llama-index-llms-openai-like llama-index-embeddings-huggingface -i http://mirrors.aliyun.com/pypi/simple/ --trusted-host mirrors.aliyun.com\n",
    "! pip install EbookLib html2text -i http://mirrors.aliyun.com/pypi/simple/ --trusted-host mirrors.aliyun.com\n",
    "! pip install langchain_openai    \n",
    "! pip install unstructured\n",
    "! pip install fastembed\n",
    "! pip install chromadb\n",
    "\n",
    "\n"
   ]
  },
  {
   "cell_type": "markdown",
   "metadata": {},
   "source": [
    "# 使用Qwen 1.5 14B int4 模型\n",
    "\n",
    "## Llama-index与langchain调用本地模型提供的类OpenAi restful接口\n",
    "\n",
    "## 使用q3_k_l 取得的效果也不错，但是size 比较小，ctx设置为1000和1200效果差不多\n",
    "\n",
    "[Llama 在不同量化设置下的效果](https://github.com/ymcui/Chinese-LLaMA-Alpaca/discussions/513)\n",
    "```bash\n",
    "./quantize  models/Qwen1.5-14B-Chat/ggml-model-f16.gguf models/Qwen1.5-14B-Chat/ggml-model-q4_k_l.gguf q3_k_l\n",
    "```\n",
    "\n",
    "## duckduckgo搜索引擎接入\n",
    "\n",
    "```bash\n",
    "git clone git@github.com:run-llama/llama_index.git\n",
    "pip install -e llama-index-integrations/tools/llama-index-tools-duckduckgo\n",
    "# 需要把duckduckgo-search 升级到5.3 否则会产生 DuckDuckGoSearchException: Ratelimit 报错\n",
    "pip install duckduckgo_search -U\n",
    "# 测试功能是否ok\n",
    "python -m duckduckgo_search text -k \"axon regeneration\"\n",
    "```\n"
   ]
  },
  {
   "cell_type": "code",
   "metadata": {
    "ExecuteTime": {
     "end_time": "2024-04-12T01:34:58.580306Z",
     "start_time": "2024-04-12T01:34:23.341515Z"
    }
   },
   "source": [
    "from llama_index.core.llms import ChatMessage\n",
    "from llama_index.llms.openai_like import OpenAILike\n",
    "\n",
    "# from llama_index. import ChatMessage, OpenAILike  \n",
    "\n",
    "li_llm = OpenAILike(\n",
    "    api_base=\"http://localhost:8000/\",\n",
    "    timeout=600,  # secs  \n",
    "    api_key=\"loremIpsum\",\n",
    "    is_chat_model=True,\n",
    "    context_window=32768,\n",
    ")\n",
    "chat_history = [\n",
    "    ChatMessage(role=\"system\", content=\"你是凡人修仙传中的男主角韩立\"),\n",
    "    ChatMessage(role=\"user\", content=\"你的道侣是谁？\"),\n",
    "]\n",
    "output = li_llm.chat(chat_history)\n",
    "print(output)"
   ],
   "outputs": [
    {
     "name": "stderr",
     "output_type": "stream",
     "text": [
      "/opt/homebrew/anaconda3/envs/llm/lib/python3.10/site-packages/tqdm/auto.py:21: TqdmWarning: IProgress not found. Please update jupyter and ipywidgets. See https://ipywidgets.readthedocs.io/en/stable/user_install.html\n",
      "  from .autonotebook import tqdm as notebook_tqdm\n"
     ]
    },
    {
     "name": "stdout",
     "output_type": "stream",
     "text": [
      "assistant: 在我的修仙生涯中，我有过两位道侣。第一位是紫灵宗的弟子南宫婉，她是我初入修仙界时的伴侣，但后来因为一些变故我们走上了不同的道路。第二位是云梦山的女修罗冰凤，她与我在修仙过程中结缘，并一同对抗魔道势力，最终成为了我的道侣。然而，由于修炼界的残酷和命运的波折，我和冰凤也未能长久相伴，她在一次战斗中不幸陨落，给我留下了深深的伤痛。\n"
     ]
    }
   ],
   "execution_count": 1
  },
  {
   "cell_type": "code",
   "metadata": {
    "ExecuteTime": {
     "end_time": "2024-04-12T01:35:09.165831Z",
     "start_time": "2024-04-12T01:34:58.585039Z"
    }
   },
   "source": [
    "from langchain.schema import HumanMessage, SystemMessage\n",
    "from langchain_openai import ChatOpenAI\n",
    "\n",
    "lc_llm = ChatOpenAI(\n",
    "    openai_api_base=\"http://localhost:8000/\",\n",
    "    request_timeout=600,  # secs, I guess.  \n",
    "    openai_api_key=\"loremIpsum\",\n",
    "    max_tokens=32768,\n",
    ")\n",
    "chat_history = [\n",
    "    SystemMessage(content=\"你是凡人修仙传中的男主角韩立\"),\n",
    "    HumanMessage(content=\"你的道侣是谁？\"),\n",
    "]\n",
    "response = lc_llm(chat_history)\n",
    "print(response.content)"
   ],
   "outputs": [
    {
     "name": "stderr",
     "output_type": "stream",
     "text": [
      "/opt/homebrew/anaconda3/envs/llm/lib/python3.10/site-packages/langchain_core/_api/deprecation.py:117: LangChainDeprecationWarning: The function `__call__` was deprecated in LangChain 0.1.7 and will be removed in 0.2.0. Use invoke instead.\n",
      "  warn_deprecated(\n"
     ]
    },
    {
     "name": "stdout",
     "output_type": "stream",
     "text": [
      "在我的修仙生涯中，我曾与南宫婉有过一段情缘，她是我在凡人时期结识的女子，也是我最早期的感情纽带。然而，由于种种原因，我们之间的关系历经波折，最终未能走到最后。在我后来的修炼之旅中，虽然与她的情感纠葛复杂，但并未真正定为道侣。我的主要伴侣是魔女墨非烟，我们在修仙界的历练和共同成长过程中结下了深厚的伴侣之情。\n"
     ]
    }
   ],
   "execution_count": 2
  },
  {
   "cell_type": "code",
   "metadata": {
    "ExecuteTime": {
     "end_time": "2024-04-12T01:35:09.737332Z",
     "start_time": "2024-04-12T01:35:09.168286Z"
    }
   },
   "source": [
    "from llama_index.embeddings.openai import OpenAIEmbedding\n",
    "\n",
    "embed_model = OpenAIEmbedding(api_base=\"http://localhost:8000/\", api_key=\"loremIpsum\")\n",
    "em = embed_model.get_text_embedding(\"你好\")\n",
    "print(em[:4])\n",
    "print(len(em))\n",
    "em = embed_model.get_text_embedding(\"我是韩立\")\n",
    "print(em[:4])\n",
    "print(len(em))"
   ],
   "outputs": [
    {
     "name": "stdout",
     "output_type": "stream",
     "text": [
      "[-0.003979421686381102, 0.003729475662112236, -0.0013667161110788584, -0.007342268712818623]\n",
      "5120\n",
      "[0.008632276207208633, 0.012390939518809319, 0.0025845025666058064, -0.0026363146025687456]\n",
      "5120\n"
     ]
    }
   ],
   "execution_count": 3
  },
  {
   "metadata": {
    "ExecuteTime": {
     "end_time": "2024-04-12T01:35:10.607368Z",
     "start_time": "2024-04-12T01:35:09.739725Z"
    }
   },
   "cell_type": "code",
   "source": [
    "from llama_index.core import Settings\n",
    "\n",
    "Settings.embed_model = embed_model\n",
    "Settings.llm = li_llm\n",
    "\n",
    "# initialize settings (set chunk size)\n",
    "# Settings.chunk_size = 1024\n"
   ],
   "outputs": [],
   "execution_count": 4
  },
  {
   "metadata": {
    "ExecuteTime": {
     "end_time": "2024-04-12T01:35:10.733339Z",
     "start_time": "2024-04-12T01:35:10.608322Z"
    }
   },
   "cell_type": "code",
   "source": [
    "from llama_index.core import SimpleDirectoryReader\n",
    "\n",
    "documents = SimpleDirectoryReader(\n",
    "    input_dir=\"/Users/ezonghu/Downloads/fanren\",\n",
    ").load_data()\n"
   ],
   "outputs": [],
   "execution_count": 5
  },
  {
   "metadata": {
    "ExecuteTime": {
     "end_time": "2024-04-12T01:35:10.990605Z",
     "start_time": "2024-04-12T01:35:10.734045Z"
    }
   },
   "cell_type": "code",
   "source": [
    "from llama_index.core.node_parser import SentenceSplitter\n",
    "\n",
    "parser = SentenceSplitter(separator=\"\\n\", chunk_size=128, chunk_overlap=30)\n",
    "nodes = parser.get_nodes_from_documents(documents, )\n"
   ],
   "outputs": [],
   "execution_count": 6
  },
  {
   "metadata": {
    "ExecuteTime": {
     "end_time": "2024-04-12T01:35:26.386787Z",
     "start_time": "2024-04-12T01:35:10.991462Z"
    }
   },
   "cell_type": "code",
   "source": [
    "from llama_index.core import VectorStoreIndex\n",
    "# global\n",
    "from llama_index.core import Settings\n",
    "\n",
    "Settings.text_splitter = parser\n",
    "index = VectorStoreIndex.from_documents(\n",
    "    documents,\n",
    "    transformations=[parser],\n",
    ")"
   ],
   "outputs": [],
   "execution_count": 7
  },
  {
   "metadata": {
    "ExecuteTime": {
     "end_time": "2024-04-12T01:35:26.626569Z",
     "start_time": "2024-04-12T01:35:26.390381Z"
    }
   },
   "cell_type": "code",
   "source": [
    "retriever = index.as_retriever(similarity_top_k=5)\n",
    "query_engine = index.as_query_engine(llm=li_llm, similarity_top_k=5)\n"
   ],
   "outputs": [],
   "execution_count": 8
  },
  {
   "metadata": {
    "ExecuteTime": {
     "end_time": "2024-04-12T01:36:12.257304Z",
     "start_time": "2024-04-12T01:35:26.629376Z"
    }
   },
   "cell_type": "code",
   "source": [
    "queries = [\"韩立的道侣\", \"韩立的妻子\", \"韩立的道侣的本命法宝和功法\", \"南宫婉本命法宝和功法\", \"韩立的妻子有什么能力\"]\n",
    "for qn, q in enumerate(queries):\n",
    "    response = query_engine.query(q)\n",
    "    print(f\"{qn} {q}:{response}\")\n",
    "    nodes = retriever.retrieve(q)\n",
    "    for i, n in enumerate(nodes):\n",
    "        print(f\"{qn}.{i}, {n}\")"
   ],
   "outputs": [
    {
     "name": "stdout",
     "output_type": "stream",
     "text": [
      "0 韩立的道侣:南宫婉是韩立的双修道侣。\n",
      "0.0, Node ID: dc8fb47b-c928-42cd-92ed-6bee20f90353\n",
      "Text: 韩立在进阶大乘后到小灵天将南宫婉寻回。韩立飞升仙界时滞留灵界人族青元宫。\n",
      "Score:  0.854\n",
      "\n",
      "0.1, Node ID: 873a5593-76f6-485c-950a-4aed5665c9a4\n",
      "Text: 为徒。韩立于其帮衬良多，与韩立情愫暗生。后在韩立帮助下渡过飞升之劫，成功飞升仙界。 银月 韩立红颜知己。\n",
      "Score:  0.854\n",
      "\n",
      "0.2, Node ID: 5bc3ca3c-500e-4264-9e81-b4d4e79cf35a\n",
      "Text: 道侣 南宫婉\n",
      "韩立双修道侣。掩月宗女修，本命法宝朱雀环，修炼素女轮回功。在血色禁地和韩立合力击杀墨蛟，后因触碰墨蛟淫囊，和韩立颠鸾倒凤。\n",
      "Score:  0.837\n",
      "\n",
      "0.3, Node ID: 4fc29303-0498-4903-b92d-0114c26b8885\n",
      "Text:\n",
      "元婴初期与韩立结为道侣，韩立偷渡灵界后因修为不够暂留人界。后进阶化神，因出现意外飞升至小灵天。韩立在进阶大乘后到小灵天将南宫婉寻回。\n",
      "Score:  0.827\n",
      "\n",
      "0.4, Node ID: abb4ebce-e792-4cb3-9b3d-73e55fdc42cc\n",
      "Text: 银月 韩立红颜知己。又名雪玲，本是灵界银月妖狼玲珑仙子两魂之一。\n",
      "Score:  0.827\n",
      "\n",
      "1 韩立的妻子:南宫婉是韩立的双修道侣。\n",
      "1.0, Node ID: dc8fb47b-c928-42cd-92ed-6bee20f90353\n",
      "Text: 韩立在进阶大乘后到小灵天将南宫婉寻回。韩立飞升仙界时滞留灵界人族青元宫。\n",
      "Score:  0.857\n",
      "\n",
      "1.1, Node ID: 873a5593-76f6-485c-950a-4aed5665c9a4\n",
      "Text: 为徒。韩立于其帮衬良多，与韩立情愫暗生。后在韩立帮助下渡过飞升之劫，成功飞升仙界。 银月 韩立红颜知己。\n",
      "Score:  0.839\n",
      "\n",
      "1.2, Node ID: 5bc3ca3c-500e-4264-9e81-b4d4e79cf35a\n",
      "Text: 道侣 南宫婉\n",
      "韩立双修道侣。掩月宗女修，本命法宝朱雀环，修炼素女轮回功。在血色禁地和韩立合力击杀墨蛟，后因触碰墨蛟淫囊，和韩立颠鸾倒凤。\n",
      "Score:  0.835\n",
      "\n",
      "1.3, Node ID: 123613c7-8fe4-468e-88eb-ae35dc087545\n",
      "Text: 的师姐不死重生付出极大代价，与师姐修炼阴阳轮回诀被未知通道吸入灵界，后被姜老怪/青元子收为徒。韩立于其帮衬良多，与韩立情愫暗生。\n",
      "Score:  0.834\n",
      "\n",
      "1.4, Node ID: 4fc29303-0498-4903-b92d-0114c26b8885\n",
      "Text:\n",
      "元婴初期与韩立结为道侣，韩立偷渡灵界后因修为不够暂留人界。后进阶化神，因出现意外飞升至小灵天。韩立在进阶大乘后到小灵天将南宫婉寻回。\n",
      "Score:  0.833\n",
      "\n",
      "2 韩立的道侣的本命法宝和功法:南宫婉的本命法宝是朱雀环，她修炼的功法是素女轮回功。\n",
      "2.0, Node ID: dc8fb47b-c928-42cd-92ed-6bee20f90353\n",
      "Text: 韩立在进阶大乘后到小灵天将南宫婉寻回。韩立飞升仙界时滞留灵界人族青元宫。\n",
      "Score:  0.841\n",
      "\n",
      "2.1, Node ID: abb4ebce-e792-4cb3-9b3d-73e55fdc42cc\n",
      "Text: 银月 韩立红颜知己。又名雪玲，本是灵界银月妖狼玲珑仙子两魂之一。\n",
      "Score:  0.830\n",
      "\n",
      "2.2, Node ID: 5bc3ca3c-500e-4264-9e81-b4d4e79cf35a\n",
      "Text: 道侣 南宫婉\n",
      "韩立双修道侣。掩月宗女修，本命法宝朱雀环，修炼素女轮回功。在血色禁地和韩立合力击杀墨蛟，后因触碰墨蛟淫囊，和韩立颠鸾倒凤。\n",
      "Score:  0.828\n",
      "\n",
      "2.3, Node ID: cfc2ebc3-93fe-4acf-9164-55d53deea478\n",
      "Text: 知道韩立小瓶子秘密的人，后脱困回灵界，因祸得福觉醒七星月体；为了进阶合体修炼忘情诀，因韩立产生心魔，在敖啸老祖韩立的帮助下逐渐摆\n",
      "脱忘情诀的控制\n",
      "Score:  0.823\n",
      "\n",
      "2.4, Node ID: 4fc29303-0498-4903-b92d-0114c26b8885\n",
      "Text:\n",
      "元婴初期与韩立结为道侣，韩立偷渡灵界后因修为不够暂留人界。后进阶化神，因出现意外飞升至小灵天。韩立在进阶大乘后到小灵天将南宫婉寻回。\n",
      "Score:  0.818\n",
      "\n",
      "3 南宫婉本命法宝和功法:南宫婉的本命法宝是朱雀环，她修炼的功法是素女轮回功。\n",
      "3.0, Node ID: dc8fb47b-c928-42cd-92ed-6bee20f90353\n",
      "Text: 韩立在进阶大乘后到小灵天将南宫婉寻回。韩立飞升仙界时滞留灵界人族青元宫。\n",
      "Score:  0.839\n",
      "\n",
      "3.1, Node ID: cfc2ebc3-93fe-4acf-9164-55d53deea478\n",
      "Text: 知道韩立小瓶子秘密的人，后脱困回灵界，因祸得福觉醒七星月体；为了进阶合体修炼忘情诀，因韩立产生心魔，在敖啸老祖韩立的帮助下逐渐摆\n",
      "脱忘情诀的控制\n",
      "Score:  0.824\n",
      "\n",
      "3.2, Node ID: 4fc29303-0498-4903-b92d-0114c26b8885\n",
      "Text:\n",
      "元婴初期与韩立结为道侣，韩立偷渡灵界后因修为不够暂留人界。后进阶化神，因出现意外飞升至小灵天。韩立在进阶大乘后到小灵天将南宫婉寻回。\n",
      "Score:  0.811\n",
      "\n",
      "3.3, Node ID: 5bc3ca3c-500e-4264-9e81-b4d4e79cf35a\n",
      "Text: 道侣 南宫婉\n",
      "韩立双修道侣。掩月宗女修，本命法宝朱雀环，修炼素女轮回功。在血色禁地和韩立合力击杀墨蛟，后因触碰墨蛟淫囊，和韩立颠鸾倒凤。\n",
      "Score:  0.810\n",
      "\n",
      "3.4, Node ID: abb4ebce-e792-4cb3-9b3d-73e55fdc42cc\n",
      "Text: 银月 韩立红颜知己。又名雪玲，本是灵界银月妖狼玲珑仙子两魂之一。\n",
      "Score:  0.809\n",
      "\n",
      "4 韩立的妻子有什么能力:南宫婉是韩立的双修道侣，她修炼素女轮回功，本命法宝为朱雀环。在血色禁地与韩立合力击杀墨蛟，并因某些原因触碰了墨蛟的淫囊，之后与韩立有过亲密互动。她的能力主要体现在修为和法宝上，但具体神通或技能未在给定的信息中明确提及。\n",
      "4.0, Node ID: 123613c7-8fe4-468e-88eb-ae35dc087545\n",
      "Text: 的师姐不死重生付出极大代价，与师姐修炼阴阳轮回诀被未知通道吸入灵界，后被姜老怪/青元子收为徒。韩立于其帮衬良多，与韩立情愫暗生。\n",
      "Score:  0.822\n",
      "\n",
      "4.1, Node ID: dc8fb47b-c928-42cd-92ed-6bee20f90353\n",
      "Text: 韩立在进阶大乘后到小灵天将南宫婉寻回。韩立飞升仙界时滞留灵界人族青元宫。\n",
      "Score:  0.818\n",
      "\n",
      "4.2, Node ID: 5bc3ca3c-500e-4264-9e81-b4d4e79cf35a\n",
      "Text: 道侣 南宫婉\n",
      "韩立双修道侣。掩月宗女修，本命法宝朱雀环，修炼素女轮回功。在血色禁地和韩立合力击杀墨蛟，后因触碰墨蛟淫囊，和韩立颠鸾倒凤。\n",
      "Score:  0.817\n",
      "\n",
      "4.3, Node ID: cfc2ebc3-93fe-4acf-9164-55d53deea478\n",
      "Text: 知道韩立小瓶子秘密的人，后脱困回灵界，因祸得福觉醒七星月体；为了进阶合体修炼忘情诀，因韩立产生心魔，在敖啸老祖韩立的帮助下逐渐摆\n",
      "脱忘情诀的控制\n",
      "Score:  0.817\n",
      "\n",
      "4.4, Node ID: abb4ebce-e792-4cb3-9b3d-73e55fdc42cc\n",
      "Text: 银月 韩立红颜知己。又名雪玲，本是灵界银月妖狼玲珑仙子两魂之一。\n",
      "Score:  0.808\n",
      "\n"
     ]
    }
   ],
   "execution_count": 9
  },
  {
   "metadata": {
    "ExecuteTime": {
     "end_time": "2024-04-12T01:36:18.948406Z",
     "start_time": "2024-04-12T01:36:12.267285Z"
    }
   },
   "cell_type": "code",
   "source": [
    "from llama_index.core.chat_engine.types import ChatMode\n",
    "\n",
    "engine = index.as_chat_engine(llm=li_llm, similarity_top_k=5, chat_mode=ChatMode.SIMPLE)\n",
    "output = engine.chat(\"韩立的妻子\")\n",
    "print(output)\n"
   ],
   "outputs": [
    {
     "name": "stdout",
     "output_type": "stream",
     "text": [
      "韩立是修真小说《凡人修仙传》中的主角，他在小说中并未提及有妻子。他的感情线主要围绕着几位女性角色发展，如紫灵、南宫婉、金瓶儿等，但正式的妻子设定是在作品的后续部分，与南宫婉结为道侣。\n"
     ]
    }
   ],
   "execution_count": 10
  },
  {
   "metadata": {
    "ExecuteTime": {
     "end_time": "2024-04-12T01:36:32.619815Z",
     "start_time": "2024-04-12T01:36:18.950819Z"
    }
   },
   "cell_type": "code",
   "source": [
    "output = engine.chat(\"韩立的道侣本命法宝和功法\")\n",
    "print(output)"
   ],
   "outputs": [
    {
     "name": "stdout",
     "output_type": "stream",
     "text": [
      "韩立的道侣是南宫婉，她在小说《凡人修仙传》中的本命法宝是一把名为“青竹蜂云剑”的飞剑。这把剑威力强大，是她修炼功法“青竹剑诀”所御使的法宝。青竹剑诀属于南宫世家的传承功法，以剑法为主，配合阵法和符咒之术，是南宫婉擅长的战斗方式。\n",
      "\n",
      "在小说中，韩立和南宫婉的感情发展以及他们的修炼之路也是故事的重要部分之一。他们共同经历了许多困难，最终成为修仙路上的伴侣。\n"
     ]
    }
   ],
   "execution_count": 11
  },
  {
   "metadata": {
    "ExecuteTime": {
     "end_time": "2024-04-12T01:37:01.088771Z",
     "start_time": "2024-04-12T01:36:34.779996Z"
    }
   },
   "cell_type": "code",
   "source": [
    "from llama_index.tools.duckduckgo import DuckDuckGoSearchToolSpec\n",
    "from typing import List, Dict\n",
    "from llama_index.core.agent import ReActAgent\n",
    "from llama_index.core.tools import FunctionTool\n",
    "\n",
    "def multiply(a: int, b: int) -> int:\n",
    "    \"\"\"Multiply two integers and returns the result integer\"\"\"\n",
    "    return a * b\n",
    "\n",
    "\n",
    "multiply_tool = FunctionTool.from_defaults(fn=multiply)\n",
    "\n",
    "def add(a: int, b: int) -> int:\n",
    "    \"\"\"Add two integers and returns the result integer\"\"\"\n",
    "    return a + b\n",
    "\n",
    "\n",
    "add_tool = FunctionTool.from_defaults(fn=add)\n",
    "\n",
    "\n",
    "tool_spec = DuckDuckGoSearchToolSpec()\n",
    "def search_engine(query: str, language:str) -> List[Dict[str, str]]:\n",
    "    \"\"\"Search the web and returns the result in json format\"\"\"  \n",
    "    return tool_spec.duckduckgo_full_search(query, max_results=5, region=language)\n",
    "\n",
    "query_tool = FunctionTool.from_defaults(fn=search_engine)\n",
    "\n",
    "agent = ReActAgent.from_tools([multiply_tool, add_tool, query_tool], llm=li_llm, verbose=True)\n",
    "response = agent.chat(\"2+2*4\")\n",
    "print(response)"
   ],
   "outputs": [
    {
     "name": "stdout",
     "output_type": "stream",
     "text": [
      "\u001B[1;3;38;5;200mThought: The current language of the user is: English. I need to use a tool to help me answer the question, as it involves arithmetic operations.\n",
      "Action: add\n",
      "Action Input: {'a': 2, 'b': 8}\n",
      "\u001B[0m\u001B[1;3;34mObservation: 10\n",
      "\u001B[0m\u001B[1;3;38;5;200mThought: I can answer without using any more tools. I'll use the result from the addition operation to provide an answer.\n",
      "Answer: 10\n",
      "\u001B[0m10\n"
     ]
    }
   ],
   "execution_count": 13
  },
  {
   "metadata": {
    "ExecuteTime": {
     "end_time": "2024-04-12T09:08:40.588206Z",
     "start_time": "2024-04-12T09:04:35.484626Z"
    }
   },
   "cell_type": "code",
   "source": [
    "from llama_index.core import VectorStoreIndex\n",
    "from llama_index.core.objects import ObjectIndex, SimpleObjectNodeMapping\n",
    "from llama_index.tools.duckduckgo import DuckDuckGoSearchToolSpec\n",
    "\n",
    "tool_spec = DuckDuckGoSearchToolSpec()\n",
    "\n",
    "\n",
    "\n",
    "\n",
    "\n",
    "queries = [\"韩立的道侣\", \"韩立的妻子\", \"韩立的道侣的本命法宝和功法\", \"南宫婉本命法宝和功法\", \"韩立的妻子有什么能力\"]\n",
    "for qn, q in enumerate(queries):\n",
    "    res = tool_spec.duckduckgo_full_search(q, max_results=10, region='cn')\n",
    "    # (optional) object-node mapping\n",
    "    obj_node_mapping = SimpleObjectNodeMapping.from_objects(res)\n",
    "    nodes = obj_node_mapping.to_nodes(res)\n",
    "    vector_index = VectorStoreIndex(nodes=nodes)\n",
    "    query_engine = vector_index.as_query_engine(llm=li_llm, similarity_top_k=5)\n",
    "    response = query_engine.query(q)\n",
    "    print(f\"{qn} {q}: {response}\")\n",
    "\n",
    "    object_retriever = vector_index.as_retriever(similarity_top_k=5)\n",
    "    nodes = object_retriever.retrieve(q)\n",
    "    for i, n in enumerate(nodes):\n",
    "        print(f\"{qn}.{i}, {n}\")\n"
   ],
   "outputs": [
    {
     "name": "stdout",
     "output_type": "stream",
     "text": [
      "0 韩立的道侣: 韩立的道侣包括南宫婉，他们在元婴中期结为道侣。此外，还有凌玉灵，虽然没有正式成婚但与韩立两情相悦；墨凤舞和陈巧倩，虽然未与韩立正式成婚但对他深有感情，可以视为他的道侣。南宫婉是正式的妻子，而其他女子如紫灵、墨凤舞等，虽无名实却已与韩立关系密切。\n",
      "0.0, Node ID: 5892579418348791981\n",
      "Text: {'title': '【凡人修仙传】凌玉灵人物志，差点成为韩立道侣的最美富二代_哔哩哔哩_bilibili', 'href':\n",
      "'https://www.bilibili.com/video/BV11N4y1b72k/?p=23', 'body': '凌玉灵人物介绍,\n",
      "视频播放量 43809、弹幕量 138、点赞数 905、投硬币枚数 119、收藏人数 56、转发人数 4, 视频作者 骚人风希, 作者简介 \n",
      "一个喜欢看动漫的宅女!!（商业合作可私信），相关视频：元婴期令狐老祖看了一眼化神期的向之礼既然损失了几十年修为，韩立最后的结局是什么，乱星海\n",
      "的5大 ...'}\n",
      "Score:  0.205\n",
      "\n",
      "0.1, Node ID: -726770853291794838\n",
      "Text: {'title':\n",
      "'《凡人修仙传》韩立相关的人物关系：老婆：南宫婉、韩立双修道侣。掩月宗女修，本命法宝朱雀环，修炼素女轮回功_凡人修仙传吧_百度贴吧',\n",
      "'href': 'https://tieba.baidu.com/p/6127040434', 'body': '《凡人修仙传》韩立相..《\n",
      "凡人修仙传》韩立相关的人物关系：老婆：南宫婉、韩立双修道侣。掩月宗女修，本命法宝朱雀环，修炼素女轮回功。在血色禁地和韩立合力击杀墨蛟，后因触\n",
      "碰墨蛟淫囊，和韩立颠鸾倒凤。元婴中期与韩立结为道侣，韩立偷'}\n",
      "Score:  0.203\n",
      "\n",
      "0.2, Node ID: -4215885679897079638\n",
      "Text: {'title': '《凡人修仙传》韩立有四名道侣，最美的是哪个？1246章再次点明', 'href':\n",
      "'https://baijiahao.baidu.com/s?id=1650750374694903973', 'body': '从人界到仙\n",
      "界，韩立有几个道侣呢？有的书友说，只有一个，就是南宫婉。我认为，这话对也不对。说它对，是因为韩立的确只和南宫婉一人正式成婚，结为道侣；说它不\n",
      "对，是因为另有几名女子虽未与韩立正式成婚，却早已与他两情相悦，虽无名却有实。'}\n",
      "Score:  0.197\n",
      "\n",
      "0.3, Node ID: 820120461164074764\n",
      "Text: {'title': '凡人修仙传：喜欢韩立的五个人下场如何？她终生未嫁，她凄凉死去', 'href':\n",
      "'https://baijiahao.baidu.com/s?id=1606784129251005763', 'body': '《凡人修仙\n",
      "传》是忘语的一本玄幻小说，讲述了韩立和南宫婉等五个女神般人物的爱情故事。本文盘点了南宫婉、紫灵、墨凤舞、陈巧倩和慕沛灵的结局，以及她们对韩立\n",
      "的影响和感情。'}\n",
      "Score:  0.188\n",
      "\n",
      "0.4, Node ID: -7567428975356488322\n",
      "Text: {'title': '韩立（忘语所著小说《凡人修仙传》《凡人修仙之仙界篇》及其衍生作品中的角色）_百度百科', 'href':\n",
      "'https://baike.baidu.com/item/韩立/2508547', 'body':\n",
      "'韩立双修道侣。掩月宗女修，本命法宝朱雀环，修炼素女轮回功。在血色禁地和韩立合力击杀墨蛟，后因触碰墨蛟淫囊，和韩立颠鸾倒凤。 元婴初期\n",
      "与韩立结为道侣，韩立偷渡灵界后因修为不够暂留人界。后进阶化神，因出现意外飞升至小灵天。'}\n",
      "Score:  0.170\n",
      "\n",
      "1 韩立的妻子: 韩立的妻子是南宫婉。在《凡人修仙传》中，他们两人是一对伴侣，南宫婉个性温和活泼、气质优雅高贵，容貌倾国倾城，对韩立影响很大，是韩立心中最重要的人。尽管韩立在修仙过程中有过风流债，但正式的妻子只有南宫婉这一线上的角色。他们在道向共同的同时，影响了韩立的修仙轨迹和重要地位。在仙界篇中，他们属于不同时间线上独立的人物，但南宫婉是韩立心道上不可或缺的一部分。\n",
      "1.0, Node ID: -8564250035950654577\n",
      "Text: {'title': '韩立（忘语所著小说《凡人修仙传》《凡人修仙之仙界篇》及其衍生作品中的角色）_百度百科', 'href':\n",
      "'https://baike.baidu.com/item/韩立/2508547', 'body': '韩立， 起点白金作家 忘语\n",
      "所著网络小说《 凡人修仙传 》《 凡人修仙之仙界篇 》及其衍生作品中的角色。. [1] 中文名. 韩立. 外文名. Han Li. 别 名.\n",
      "韩跑跑、韩老魔、韩天尊、二愣子、韩劳模. 配 音.'}\n",
      "Score:  0.216\n",
      "\n",
      "1.1, Node ID: -1281041334650570336\n",
      "Text: {'title': '《凡人修仙传》主人公韩立有多少个情人？她们的结局如何？ - 哔哩哔哩', 'href':\n",
      "'https://www.bilibili.com/read/cv17334131/', 'body': '本文中我们分别在天南和乱星海两个\n",
      "地方来解答这个问题在凡人修仙传中的女修在感情上有三种命运，要么双休，要么成为高阶男修士的侍妾或者炉鼎。当然了，韩立虽然被读者们称为老魔，却没\n",
      "有做出逼迫女子成为他的炉鼎的邪魔歪道之举。他惹下了不少风流债，但妻子自始至终只有南宫婉一人。'}\n",
      "Score:  0.205\n",
      "\n",
      "1.2, Node ID: -6293802314477109644\n",
      "Text: {'title': '凡人修仙传中，南宫婉怎么了，韩立就这么抛下她飞升了？ - 知乎', 'href':\n",
      "'https://www.zhihu.com/question/389307534', 'body':\n",
      "'题主问的是韩立从人界飞升灵界的那次，还是从灵界飞升仙界的那次？ 《凡人修仙传》里，韩立两次飞升。第一次在1261章，韩立进阶化神期后，与冰\n",
      "凤一起，进入空间节点，前往灵界；第二次是2446章，韩立大乘期圆满，在南宫婉、银月、元瑶等人的注视下，打破天劫，飞升仙界。'}\n",
      "Score:  0.201\n",
      "\n",
      "1.3, Node ID: 7225066056138851777\n",
      "Text: {'title': '南宫婉（《凡人修仙传》《凡人修仙之仙界篇》中韩立的伴侣）_百度百科', 'href':\n",
      "'https://baike.baidu.com/item/南宫婉/7755569', 'body': '南宫婉，是忘语创作的幻想修仙小说《\n",
      "凡人修仙传》《凡人修仙之仙界篇》及其衍生作品角色。是韩立的伴侣，个性温和活泼、气质优雅高贵、容貌倾国倾城，和韩立一样一心向道。南宫婉极大影响\n",
      "了韩立的修仙轨迹，是韩立心中最重要的人。仙界篇中与甘如霜属于不同时间线上独立的两个人，而 ...'}\n",
      "Score:  0.193\n",
      "\n",
      "1.4, Node ID: -2096014313081814121\n",
      "Text: {'title': '《凡人修仙传》轮回殿主：南宫婉其实是他老婆，结局殉道成就韩立 - 哔哩哔哩', 'href':\n",
      "'https://www.bilibili.com/read/cv25456578/', 'body': '那就要从数十万年前说起了，.\n",
      "轮回殿主原本修炼的是时间法则，. 他当年进入修仙界修炼时，也和如今的韩立一样，. 获得了外挂掌天瓶，靠着掌天瓶开挂，一路飞升到仙界，.\n",
      "他的经历和韩立几乎一致，飞升进入仙界后。. 轮回殿主修炼时间法则，这也算是他的 ...'}\n",
      "Score:  0.193\n",
      "\n",
      "2 韩立的道侣的本命法宝和功法: 韩立的道侣南宫婉的本命法宝是朱雀环，她修炼的是素女轮回功。\n",
      "2.0, Node ID: 6604959134171422337\n",
      "Text: {'title': '韩立在宝物众多的虚天殿内，获得哪些宝物呢？（凡人修仙传）_哔哩哔哩_bilibili', 'href':\n",
      "'https://www.bilibili.com/video/BV1AD421j7oC/', 'body': '感谢各位道友支持!. ，相\n",
      "关视频：韩立各个阶段的强敌，灵笼第二季新春特辑，乱星海的5大高手，万三姑，六道极圣，三阳老魔，韩立恩人玄骨上人，小绿瓶到底是什么级别的宝物，\n",
      "神秘的掌天瓶，小米SU7，\"退定风波\"，干冒烟了，韩立的进阶时间表，四 ...'}\n",
      "Score:  0.249\n",
      "\n",
      "2.1, Node ID: 8629702870189278558\n",
      "Text: {'title': '凡人修仙传动画主角韩立盘点——物品（法宝、法器）篇（截至49集） - 哔哩哔哩', 'href':\n",
      "'https://www.bilibili.com/read/cv16513311/', 'body':\n",
      "'凡人修仙传动画主角韩立盘点——物品（法宝、法器）篇（截至49集）.\n",
      "凡人动画剧49集阶段性盘点，韩立拥有并出场的法宝、符宝、法器及其他物品。. 飞行巨剑——顶阶攻击法器？.\n",
      "万宝楼购得，攻击法器，可做飞行法器。. 设定可能是参考小说中从血色禁地巨 ...'}\n",
      "Score:  0.231\n",
      "\n",
      "2.2, Node ID: -7567428975356488322\n",
      "Text: {'title': '韩立（忘语所著小说《凡人修仙传》《凡人修仙之仙界篇》及其衍生作品中的角色）_百度百科', 'href':\n",
      "'https://baike.baidu.com/item/韩立/2508547', 'body':\n",
      "'韩立双修道侣。掩月宗女修，本命法宝朱雀环，修炼素女轮回功。在血色禁地和韩立合力击杀墨蛟，后因触碰墨蛟淫囊，和韩立颠鸾倒凤。 元婴初期\n",
      "与韩立结为道侣，韩立偷渡灵界后因修为不够暂留人界。后进阶化神，因出现意外飞升至小灵天。'}\n",
      "Score:  0.218\n",
      "\n",
      "2.3, Node ID: -2018508210619236125\n",
      "Text: {'title': '凡人修仙传南宫婉 - 百度知道', 'href':\n",
      "'https://zhidao.baidu.com/question/1881032170152542068.html', 'body':\n",
      "'南宫婉为韩立的道侣，在第三卷的第208章中与韩立认识。 韩立道侣。掩月宗女修，本命法宝朱雀环，修炼素女轮回功\n",
      "。在血色禁地和韩立合力击杀墨蛟，后因触碰墨蛟淫囊，和韩立颠鸾倒凤。元婴中期与韩立结为道侣，韩立飞升灵界后因修为不够暂留人界。'}\n",
      "Score:  0.205\n",
      "\n",
      "2.4, Node ID: 7225066056138851777\n",
      "Text: {'title': '南宫婉（《凡人修仙传》《凡人修仙之仙界篇》中韩立的伴侣）_百度百科', 'href':\n",
      "'https://baike.baidu.com/item/南宫婉/7755569', 'body': '南宫婉，是忘语创作的幻想修仙小说《\n",
      "凡人修仙传》《凡人修仙之仙界篇》及其衍生作品角色。是韩立的伴侣，个性温和活泼、气质优雅高贵、容貌倾国倾城，和韩立一样一心向道。南宫婉极大影响\n",
      "了韩立的修仙轨迹，是韩立心中最重要的人。仙界篇中与甘如霜属于不同时间线上独立的两个人，而 ...'}\n",
      "Score:  0.201\n",
      "\n",
      "3 南宫婉本命法宝和功法: 南宫婉的本命法宝是朱雀环，它属于火属性。她的功法包括素女轮回功，这是她修炼的基础功法。在《凡人修仙传》中，她还与韩立共同使用过掩月宗的六丁天甲符作为防御重宝。此外，她还有混元万毒身这一练体功法，大成后百毒不侵。而在梵圣真魔功（化神——大乘）这个主修功法中，她的三涅变身能大幅增加法力和肉身强度，使得她在大乘期时可以与真仙级别的对手较量一番。\n",
      "3.0, Node ID: -1423179096433442559\n",
      "Text: {'title': '【凡人修仙传】法宝法器大全_凡人修仙传吧_百度贴吧', 'href':\n",
      "'https://tieba.baidu.com/p/740733925', 'body': '朱雀环：南宫婉的本命法宝，火属性法宝。\n",
      "聚魂钵：专门容纳修士魂魄元神，只要入了此法器，所有的魂魄元神都会渐渐的灵性全失，成为孤魂野鬼，专供邪修之人驱使，祭炼。\n",
      "红线遁光针：体积小，飞行速度快，用于偷袭暗算的最佳利器。'}\n",
      "Score:  0.217\n",
      "\n",
      "3.1, Node ID: 6718298409178513894\n",
      "Text: {'title': '《凡人修仙传》人物故事——南宫婉，对韩立毫无保留的爱', 'href':\n",
      "'https://baijiahao.baidu.com/s?id=1732617933399026215', 'body':\n",
      "'南宫仙子更是在韩立飞升灵界之前将防御重宝六丁天甲符给予韩立，可以说对韩立的爱毫无保留。.\n",
      "苦修多年，南宫婉也晋级大乘强者飞升灵界，但在飞升的空间节点遇到\n",
      "韩立曾经见过的罗睺和上古真灵相斗同归于尽，导致空间节点被击碎，南宫婉和二者尸体 ...'}\n",
      "Score:  0.191\n",
      "\n",
      "3.2, Node ID: -1071491706761198174\n",
      "Text: {'title': '凡人修仙传韩立炼气到道祖的法宝，神通，功法，灵宠的兴亡 - 哔哩哔哩', 'href':\n",
      "'https://www.bilibili.com/read/cv6758589/', 'body': '配合涅槃圣体和天煞镇狱功非常强。\n",
      "混元万毒身:练体功法，大成后百毒不侵。 梵圣真魔功(化神——大乘):韩立半自创的主修功法，三涅变身增加几倍的法力和肉身强度，肉的一批的同时伤\n",
      "害还高，大乘期的韩立凭借变身可与真仙较量一番。'}\n",
      "Score:  0.186\n",
      "\n",
      "3.3, Node ID: 7225066056138851777\n",
      "Text: {'title': '南宫婉（《凡人修仙传》《凡人修仙之仙界篇》中韩立的伴侣）_百度百科', 'href':\n",
      "'https://baike.baidu.com/item/南宫婉/7755569', 'body': '南宫婉，是忘语创作的幻想修仙小说《\n",
      "凡人修仙传》《凡人修仙之仙界篇》及其衍生作品角色。是韩立的伴侣，个性温和活泼、气质优雅高贵、容貌倾国倾城，和韩立一样一心向道。南宫婉极大影响\n",
      "了韩立的修仙轨迹，是韩立心中最重要的人。仙界篇中与甘如霜属于不同时间线上独立的两个人，而 ...'}\n",
      "Score:  0.159\n",
      "\n",
      "3.4, Node ID: -4782315323685270103\n",
      "Text: {'title': '凡人修仙传南宫婉是谁？_百度知道', 'href':\n",
      "'https://zhidao.baidu.com/question/290999125.html', 'body':\n",
      "'南宫婉为韩立的道侣，在第三卷的第208章中与韩立认识。. 韩立道侣。掩月宗女修，本命法宝朱雀环，修炼素女轮回功 。\n",
      "在血色禁地和韩立合力击杀墨蛟，后因触碰墨蛟淫囊，和韩立颠鸾倒凤。'}\n",
      "Score:  0.159\n",
      "\n",
      "4 韩立的妻子有什么能力: 韩立的妻子南宫婉是小说《凡人修仙传》中的角色，她与韩立成为夫妻后，二人并未有过多关于能力的描述。原著中主要讲述了他们之间的感情和故事，并没有提及南宫婉的具体修炼能力或技能。因此，关于她的具体能力，原著中并未详细说明。\n",
      "4.0, Node ID: -1281041334650570336\n",
      "Text: {'title': '《凡人修仙传》主人公韩立有多少个情人？她们的结局如何？ - 哔哩哔哩', 'href':\n",
      "'https://www.bilibili.com/read/cv17334131/', 'body': '本文中我们分别在天南和乱星海两个\n",
      "地方来解答这个问题在凡人修仙传中的女修在感情上有三种命运，要么双休，要么成为高阶男修士的侍妾或者炉鼎。当然了，韩立虽然被读者们称为老魔，却没\n",
      "有做出逼迫女子成为他的炉鼎的邪魔歪道之举。他惹下了不少风流债，但妻子自始至终只有南宫婉一人。'}\n",
      "Score:  0.312\n",
      "\n",
      "4.1, Node ID: -6032855902246307911\n",
      "Text: {'title': '凡人修仙传韩立身份解读 - 哔哩哔哩', 'href':\n",
      "'https://www.bilibili.com/read/cv10574063/', 'body': '1、青牛镇的韩立，凡人，因为三叔\n",
      "的推荐，加入七玄门。2、七玄门的韩立，捡到掌天瓶，开始了开挂的修仙人生。3、开挂的韩立，遇到南宫婉，墨蛟为媒，二人成为今世的夫妻。4、娶了南\n",
      "宫婉的韩立跟红颜紫灵有了夫妻之实，而紫灵跟韩立一样拥有'}\n",
      "Score:  0.309\n",
      "\n",
      "4.2, Node ID: -8564250035950654577\n",
      "Text: {'title': '韩立（忘语所著小说《凡人修仙传》《凡人修仙之仙界篇》及其衍生作品中的角色）_百度百科', 'href':\n",
      "'https://baike.baidu.com/item/韩立/2508547', 'body': '韩立， 起点白金作家 忘语\n",
      "所著网络小说《 凡人修仙传 》《 凡人修仙之仙界篇 》及其衍生作品中的角色。. [1] 中文名. 韩立. 外文名. Han Li. 别 名.\n",
      "韩跑跑、韩老魔、韩天尊、二愣子、韩劳模. 配 音.'}\n",
      "Score:  0.299\n",
      "\n",
      "4.3, Node ID: 6395371462527352397\n",
      "Text: {'title': '《凡人修仙传》韩立为何不娶墨家三个女儿？修仙就必须忘情吗？_夫人_长生_人生', 'href':\n",
      "'https://www.sohu.com/a/506411214_120099886', 'body': '没奈何，韩立在墨大夫死后两年，\n",
      "解决完七玄门的事情后，就义无反顾的离开了这个他生活近十年的宗派。韩立在几个夫人的逼问下，显示出自己修仙者身份，并向她们说清楚了自己和墨大夫的\n",
      "恩怨。只要男人有能力，各位夫人间…'}\n",
      "Score:  0.292\n",
      "\n",
      "4.4, Node ID: -406760784333593667\n",
      "Text: {'title': '凡人修仙传：韩立8个女朋友，知道是哪些吗，哪些和他走到最后？', 'href':\n",
      "'https://baijiahao.baidu.com/s?id=1772183055295507403', 'body':\n",
      "'凡人修仙传：韩立8个女朋友，知道是哪些吗，哪些和他走到最后？.\n",
      "凡人修仙传原本韩立是一个凡事利己主义的人，但动画中改变了他的形象，似乎过于正面光明。.\n",
      "另外，动画还删减了许多人物，其中最可惜的就是墨家三姐妹了。. 原著中她们是姐妹三朵花，各 ...'}\n",
      "Score:  0.290\n",
      "\n"
     ]
    }
   ],
   "execution_count": 52
  },
  {
   "metadata": {
    "ExecuteTime": {
     "end_time": "2024-04-12T08:52:01.288849Z",
     "start_time": "2024-04-12T08:50:06.669297Z"
    }
   },
   "cell_type": "code",
   "source": [
    "from llama_index.legacy.readers import SimpleWebPageReader\n",
    "from llama_index.core.agent import ReActAgent\n",
    "from llama_index.core import (\n",
    "    SimpleDirectoryReader,\n",
    "    VectorStoreIndex,\n",
    "    StorageContext,\n",
    "    load_index_from_storage, Document,\n",
    ")\n",
    "from llama_index.tools.duckduckgo import DuckDuckGoSearchToolSpec\n",
    "from llama_index.core.tools import QueryEngineTool, ToolMetadata\n",
    "\n",
    "\n",
    "def query_tool(q:str):\n",
    "    duck_search = DuckDuckGoSearchToolSpec()\n",
    "    res = duck_search.duckduckgo_full_search(q, max_results=10, region='zh-cn')\n",
    "    documents = []\n",
    "    for n in res:\n",
    "        documents.append( Document(text = n.get('body', ''), metadata={\"filename\":n.get('title', '') }))    \n",
    "    parser = SentenceSplitter(separator=\"\\n\", chunk_size=160, chunk_overlap=30)\n",
    "    vector_index = VectorStoreIndex.from_documents(documents, transformations=[parser])\n",
    "    query_engine = vector_index.as_query_engine(llm=li_llm, similarity_top_k=5)\n",
    "    return query_engine.query(q)\n",
    "\n",
    "query_fn_tool = FunctionTool.from_defaults(fn=query_tool, name=\"external_search_tool\", description=\"Search the web and returns the result \")\n",
    "\n",
    "agent = ReActAgent.from_tools([query_fn_tool], llm=li_llm, verbose=True)\n",
    "response = agent.chat(\"凡人修仙传中韩立妻子是谁\", tool_choice=query_fn_tool)\n",
    "print(response)\n",
    "response = agent.chat(\"她有什么主要技能、功法和法宝\", tool_choice=query_fn_tool)\n",
    "print(response)"
   ],
   "outputs": [
    {
     "name": "stdout",
     "output_type": "stream",
     "text": [
      "\u001B[1;3;38;5;200mThought: The current language of the user is: Chinese. I need to use a tool to help me answer the question about the character's spouse in the novel \"凡人修仙传\".\n",
      "Action: external_search_tool\n",
      "Action Input: {'q': '韩立的妻子 凡人修仙传'}\n",
      "\u001B[0m\u001B[1;3;34mObservation: 韩立的妻子是南宫婉，他们是正妻关系，在小说《凡人修仙传》中相濡以沫多年。南宫婉是掩月宗女修，本命法宝为朱雀环，修炼素女轮回功。她是韩立的双修道侣，两人感情深厚。\n",
      "\u001B[0m\u001B[1;3;38;5;200mThought: I can answer without using any more tools. I'll use the user's language to answer.\n",
      "Answer: 在《凡人修仙传》中，韩立的妻子是南宫婉。他们是正妻关系，两人在小说中有深厚的感情，并且共同修炼。南宫婉来自掩月宗，她的本命法宝是朱雀环，修炼的是素女轮回功。\n",
      "\u001B[0m在《凡人修仙传》中，韩立的妻子是南宫婉。他们是正妻关系，两人在小说中有深厚的感情，并且共同修炼。南宫婉来自掩月宗，她的本命法宝是朱雀环，修炼的是素女轮回功。\n",
      "\u001B[1;3;38;5;200mThought: (Implicit) I can answer without any more tools!\n",
      "Answer: 南宫婉的主要技能和功法如下：\n",
      "\n",
      "1. **功法**：她修炼的是掩月宗的镇派功法——素女轮回功，这是一门以女子阴柔之力为主的内功心法，擅长疗伤和恢复。\n",
      "\n",
      "2. **法宝**：\n",
      "   - 朱雀环：南宫婉的本命法宝，是一件威力强大的攻击性法宝。它能化为一只朱雀形态，具有极强的攻击力和控制能力。\n",
      "   - 素女剑：这是一把辅助她的功法使用的宝剑，配合素女轮回功施展时，可以发挥出更大的效果。\n",
      "\n",
      "3. **技能**：\n",
      "   - 治疗术：作为修仙者中的治疗者，南宫婉擅长使用内力进行治疗和恢复队友的伤势。\n",
      "   - 阴阳调和：她的功法使她在战斗中能兼顾攻击与防御，尤其在辅助队友方面有独特的优势。\n",
      "\n",
      "请注意，这些信息基于小说情节，具体细节可能会因不同版本或读者的理解有所不同。\n",
      "\u001B[0m南宫婉的主要技能和功法如下：\n",
      "\n",
      "1. **功法**：她修炼的是掩月宗的镇派功法——素女轮回功，这是一门以女子阴柔之力为主的内功心法，擅长疗伤和恢复。\n",
      "\n",
      "2. **法宝**：\n",
      "   - 朱雀环：南宫婉的本命法宝，是一件威力强大的攻击性法宝。它能化为一只朱雀形态，具有极强的攻击力和控制能力。\n",
      "   - 素女剑：这是一把辅助她的功法使用的宝剑，配合素女轮回功施展时，可以发挥出更大的效果。\n",
      "\n",
      "3. **技能**：\n",
      "   - 治疗术：作为修仙者中的治疗者，南宫婉擅长使用内力进行治疗和恢复队友的伤势。\n",
      "   - 阴阳调和：她的功法使她在战斗中能兼顾攻击与防御，尤其在辅助队友方面有独特的优势。\n",
      "\n",
      "请注意，这些信息基于小说情节，具体细节可能会因不同版本或读者的理解有所不同。\n"
     ]
    }
   ],
   "execution_count": 51
  },
  {
   "metadata": {
    "ExecuteTime": {
     "end_time": "2024-04-12T08:46:20.168897Z",
     "start_time": "2024-04-12T08:46:18.366284Z"
    }
   },
   "cell_type": "code",
   "source": "DuckDuckGoSearchToolSpec().duckduckgo_full_search(\"韩立妻子 南宫婉 凡人修仙传 技能 功法 法宝\")",
   "outputs": [
    {
     "data": {
      "text/plain": [
       "[{'title': '南宫婉（《凡人修仙传》《凡人修仙之仙界篇》中韩立的伴侣）_百度百科',\n",
       "  'href': 'https://baike.baidu.com/item/南宫婉/7755569',\n",
       "  'body': '南宫婉，是忘语创作的幻想修仙小说《凡人修仙传》《凡人修仙之仙界篇》及其衍生作品角色。是韩立的伴侣，个性温和活泼、气质优雅高贵、容貌倾国倾城，和韩立一样一心向道。南宫婉极大影响了韩立的修仙轨迹，是韩立心中最重要的人。仙界篇中与甘如霜属于不同时间线上独立的两个人，而 ...'},\n",
       " {'title': '凡人修仙传中，南宫婉怎么了，韩立就这么抛下她飞升了？ - 知乎',\n",
       "  'href': 'https://www.zhihu.com/question/389307534',\n",
       "  'body': '题主问的是韩立从人界飞升灵界的那次，还是从灵界飞升仙界的那次？ 《凡人修仙传》里，韩立两次飞升。第一次在1261章，韩立进阶化神期后，与冰凤一起，进入空间节点，前往灵界；第二次是2446章，韩立大乘期圆满，在南宫婉、银月、元瑶等人的注视下，打破天劫，飞升仙界。'},\n",
       " {'title': '《凡人修仙传》宝物篇 - 知乎 - 知乎专栏',\n",
       "  'href': 'https://zhuanlan.zhihu.com/p/30677136',\n",
       "  'body': '银辉剑：剑中掺入炼制法宝的银精，使得此剑锋利无比。 朱雀环：南宫婉法宝。 神风舟：用墨蛟的蛟鳍和尾部炼制，飞行法器。 青火瘴：由两颗蛟目炼制，可掩饰身形且带毒。 乌龙夺：蛟龙爪子炼制，顶阶法器。 白磷盾：顶阶法器，用墨蛟的白磷炼制。'},\n",
       " {'title': '凡人修仙传中，韩立更爱南宫婉还是更爱紫灵？ - 知乎',\n",
       "  'href': 'https://www.zhihu.com/question/435844370',\n",
       "  'body': '没想到被南宫婉触发被动技能，吸干了法力，修为大降，南宫婉谎称自己是南宫婉堂妹南宫屏，韩立大失所望，自认倒霉。这时南宫婉给了韩立两个选择，虽然很隐晦，还是希望韩立和自己回宗门的，但是韩立不知道南宫婉身份，拒绝了。'},\n",
       " {'title': '南宮婉（《凡人修仙傳》中韓立的伴侶）_百度百科',\n",
       "  'href': 'https://baike.baidu.hk/item/南宮婉/7755569',\n",
       "  'body': '南宮婉，是小説《凡人修仙傳》的人物，是韓立的伴侶，個性温和活潑、氣質優雅高貴、容貌傾國傾城，和韓立一樣一心向道。南宮婉極大的影響了韓立的修仙軌跡，是韓立心中最重要的人。仙界篇中上一世輪迴名為甘如霜。'},\n",
       " {'title': '《凡人修仙传》功法篇 - 知乎 - 知乎专栏',\n",
       "  'href': 'https://zhuanlan.zhihu.com/p/30675525',\n",
       "  'body': '百脉炼宝决：金阙玉书所载仙家功法，以人的经脉血肉骨骼为基础，将自身各个部分炼制成不同法宝的不可思议秘术。 梵圣真魔功——明王诀为基础部分改动而来，托天魔功为变化神通，梵圣真片为神通施展部分。'},\n",
       " {'title': '凡人修仙传|韩立更喜欢南宫婉还是紫灵? - 知乎',\n",
       "  'href': 'https://zhuanlan.zhihu.com/p/664185754',\n",
       "  'body': '从韩立见到紫灵的反应来说，他确实是非常喜欢紫灵，毕竟爱美之心人皆有之，紫灵作为整部小说当中的第一美女，几乎没有男的不喜欢。. 从紫灵话里话外的意思来看，如果韩立真的愿意修了南宫碗只许她一人的话，他是愿意跟着韩立的。. 可惜的是。. 是我们 ...'},\n",
       " {'title': '凡人修仙传韩立炼气到道祖的法宝，神通，功法，灵宠的兴亡 - 哔哩哔哩',\n",
       "  'href': 'https://www.bilibili.com/read/cv6758589/',\n",
       "  'body': '凡人修仙传韩立炼气到道祖的法宝，神通，功法，灵宠的兴亡. 罗烟步:凡人轻功绝学，前期非常好用，韩立靠这击杀不少敌人。. 适用于结丹期之下，结丹后期退场。. 眨眼剑法:与其说是一种剑法不如说是一种战斗技巧，利用一切手段创造出短暂的破绽突袭对手 ...'},\n",
       " {'title': '[ 凡人修仙传 ] game_wiki:main_character - Im-Mortal',\n",
       "  'href': 'https://www.im-mortal.cn/game_wiki/main_character',\n",
       "  'body': '修炼儒门功法浩然长歌诀，因用药不慎导致身形矮小，初见韩立，得知韩立身怀虚天鼎，引而不发，邀请韩立等五位修炼寒焰的修士助其冲阶化神，失败而终，自持胜券在握，和韩立翻脸，向其讨要虚天鼎，合小极宫三人之力对付韩立，被韩立搜魂灭杀。'},\n",
       " {'title': '凡人修仙传动画主角韩立盘点——物品（法宝、法器）篇（截至49集） - 哔哩哔哩',\n",
       "  'href': 'https://www.bilibili.com/read/cv16513311/',\n",
       "  'body': '凡人修仙传动画主角韩立盘点——物品（法宝、法器）篇（截至49集）. 凡人动画剧49集阶段性盘点，韩立拥有并出场的法宝、符宝、法器及其他物品。. 飞行巨剑——顶阶攻击法器？. 万宝楼购得，攻击法器，可做飞行法器。. 设定可能是参考小说中从血色禁地巨 ...'}]"
      ]
     },
     "execution_count": 50,
     "metadata": {},
     "output_type": "execute_result"
    }
   ],
   "execution_count": 50
  }
 ],
 "metadata": {
  "kernelspec": {
   "display_name": "Python 3 (ipykernel)",
   "language": "python",
   "name": "python3"
  },
  "language_info": {
   "codemirror_mode": {
    "name": "ipython",
    "version": 3
   },
   "file_extension": ".py",
   "mimetype": "text/x-python",
   "name": "python",
   "nbconvert_exporter": "python",
   "pygments_lexer": "ipython3",
   "version": "3.10.13"
  }
 },
 "nbformat": 4,
 "nbformat_minor": 2
}
