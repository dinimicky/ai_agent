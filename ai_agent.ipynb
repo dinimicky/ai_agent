{
 "cells": [
  {
   "cell_type": "code",
   "execution_count": 2,
   "metadata": {
    "ExecuteTime": {
     "end_time": "2024-04-07T12:35:15.769247Z",
     "start_time": "2024-04-07T12:35:06.328468Z"
    }
   },
   "outputs": [
    {
     "name": "stdout",
     "output_type": "stream",
     "text": [
      "Looking in indexes: http://mirrors.aliyun.com/pypi/simple/\r\n",
      "Requirement already satisfied: llama-index in /usr/local/Caskroom/miniconda/base/envs/llama/lib/python3.10/site-packages (0.10.27)\r\n",
      "Requirement already satisfied: langchain in /usr/local/Caskroom/miniconda/base/envs/llama/lib/python3.10/site-packages (0.1.13)\r\n",
      "Requirement already satisfied: llama-index-llms-openai-like in /usr/local/Caskroom/miniconda/base/envs/llama/lib/python3.10/site-packages (0.1.3)\r\n",
      "Requirement already satisfied: llama-index-embeddings-huggingface in /usr/local/Caskroom/miniconda/base/envs/llama/lib/python3.10/site-packages (0.2.0)\r\n",
      "Requirement already satisfied: llama-index-agent-openai<0.3.0,>=0.1.4 in /usr/local/Caskroom/miniconda/base/envs/llama/lib/python3.10/site-packages (from llama-index) (0.2.2)\r\n",
      "Requirement already satisfied: llama-index-cli<0.2.0,>=0.1.2 in /usr/local/Caskroom/miniconda/base/envs/llama/lib/python3.10/site-packages (from llama-index) (0.1.11)\r\n",
      "Requirement already satisfied: llama-index-core<0.11.0,>=0.10.27 in /usr/local/Caskroom/miniconda/base/envs/llama/lib/python3.10/site-packages (from llama-index) (0.10.27)\r\n",
      "Requirement already satisfied: llama-index-embeddings-openai<0.2.0,>=0.1.5 in /usr/local/Caskroom/miniconda/base/envs/llama/lib/python3.10/site-packages (from llama-index) (0.1.7)\r\n",
      "Requirement already satisfied: llama-index-indices-managed-llama-cloud<0.2.0,>=0.1.2 in /usr/local/Caskroom/miniconda/base/envs/llama/lib/python3.10/site-packages (from llama-index) (0.1.5)\r\n",
      "Requirement already satisfied: llama-index-legacy<0.10.0,>=0.9.48 in /usr/local/Caskroom/miniconda/base/envs/llama/lib/python3.10/site-packages (from llama-index) (0.9.48)\r\n",
      "Requirement already satisfied: llama-index-llms-openai<0.2.0,>=0.1.13 in /usr/local/Caskroom/miniconda/base/envs/llama/lib/python3.10/site-packages (from llama-index) (0.1.14)\r\n",
      "Requirement already satisfied: llama-index-multi-modal-llms-openai<0.2.0,>=0.1.3 in /usr/local/Caskroom/miniconda/base/envs/llama/lib/python3.10/site-packages (from llama-index) (0.1.4)\r\n",
      "Requirement already satisfied: llama-index-program-openai<0.2.0,>=0.1.3 in /usr/local/Caskroom/miniconda/base/envs/llama/lib/python3.10/site-packages (from llama-index) (0.1.5)\r\n",
      "Requirement already satisfied: llama-index-question-gen-openai<0.2.0,>=0.1.2 in /usr/local/Caskroom/miniconda/base/envs/llama/lib/python3.10/site-packages (from llama-index) (0.1.3)\r\n",
      "Requirement already satisfied: llama-index-readers-file<0.2.0,>=0.1.4 in /usr/local/Caskroom/miniconda/base/envs/llama/lib/python3.10/site-packages (from llama-index) (0.1.13)\r\n",
      "Requirement already satisfied: llama-index-readers-llama-parse<0.2.0,>=0.1.2 in /usr/local/Caskroom/miniconda/base/envs/llama/lib/python3.10/site-packages (from llama-index) (0.1.4)\r\n",
      "Requirement already satisfied: PyYAML>=5.3 in /usr/local/Caskroom/miniconda/base/envs/llama/lib/python3.10/site-packages (from langchain) (6.0.1)\r\n",
      "Requirement already satisfied: SQLAlchemy<3,>=1.4 in /usr/local/Caskroom/miniconda/base/envs/llama/lib/python3.10/site-packages (from langchain) (2.0.28)\r\n",
      "Requirement already satisfied: aiohttp<4.0.0,>=3.8.3 in /usr/local/Caskroom/miniconda/base/envs/llama/lib/python3.10/site-packages (from langchain) (3.9.3)\r\n",
      "Requirement already satisfied: async-timeout<5.0.0,>=4.0.0 in /usr/local/Caskroom/miniconda/base/envs/llama/lib/python3.10/site-packages (from langchain) (4.0.3)\r\n",
      "Requirement already satisfied: dataclasses-json<0.7,>=0.5.7 in /usr/local/Caskroom/miniconda/base/envs/llama/lib/python3.10/site-packages (from langchain) (0.6.4)\r\n",
      "Requirement already satisfied: jsonpatch<2.0,>=1.33 in /usr/local/Caskroom/miniconda/base/envs/llama/lib/python3.10/site-packages (from langchain) (1.33)\r\n",
      "Requirement already satisfied: langchain-community<0.1,>=0.0.29 in /usr/local/Caskroom/miniconda/base/envs/llama/lib/python3.10/site-packages (from langchain) (0.0.29)\r\n",
      "Requirement already satisfied: langchain-core<0.2.0,>=0.1.33 in /usr/local/Caskroom/miniconda/base/envs/llama/lib/python3.10/site-packages (from langchain) (0.1.33)\r\n",
      "Requirement already satisfied: langchain-text-splitters<0.1,>=0.0.1 in /usr/local/Caskroom/miniconda/base/envs/llama/lib/python3.10/site-packages (from langchain) (0.0.1)\r\n",
      "Requirement already satisfied: langsmith<0.2.0,>=0.1.17 in /usr/local/Caskroom/miniconda/base/envs/llama/lib/python3.10/site-packages (from langchain) (0.1.31)\r\n",
      "Requirement already satisfied: numpy<2,>=1 in /usr/local/Caskroom/miniconda/base/envs/llama/lib/python3.10/site-packages (from langchain) (1.24.4)\r\n",
      "Requirement already satisfied: pydantic<3,>=1 in /usr/local/Caskroom/miniconda/base/envs/llama/lib/python3.10/site-packages (from langchain) (2.6.4)\r\n",
      "Requirement already satisfied: requests<3,>=2 in /usr/local/Caskroom/miniconda/base/envs/llama/lib/python3.10/site-packages (from langchain) (2.31.0)\r\n",
      "Requirement already satisfied: tenacity<9.0.0,>=8.1.0 in /usr/local/Caskroom/miniconda/base/envs/llama/lib/python3.10/site-packages (from langchain) (8.2.3)\r\n",
      "Requirement already satisfied: transformers<5.0.0,>=4.37.0 in /usr/local/Caskroom/miniconda/base/envs/llama/lib/python3.10/site-packages (from llama-index-llms-openai-like) (4.38.2)\r\n",
      "Requirement already satisfied: huggingface-hub>=0.19.0 in /usr/local/Caskroom/miniconda/base/envs/llama/lib/python3.10/site-packages (from huggingface-hub[inference]>=0.19.0->llama-index-embeddings-huggingface) (0.21.4)\r\n",
      "Requirement already satisfied: sentence-transformers<3.0.0,>=2.6.1 in /usr/local/Caskroom/miniconda/base/envs/llama/lib/python3.10/site-packages (from llama-index-embeddings-huggingface) (2.6.1)\r\n",
      "Requirement already satisfied: aiosignal>=1.1.2 in /usr/local/Caskroom/miniconda/base/envs/llama/lib/python3.10/site-packages (from aiohttp<4.0.0,>=3.8.3->langchain) (1.3.1)\r\n",
      "Requirement already satisfied: attrs>=17.3.0 in /usr/local/Caskroom/miniconda/base/envs/llama/lib/python3.10/site-packages (from aiohttp<4.0.0,>=3.8.3->langchain) (23.2.0)\r\n",
      "Requirement already satisfied: frozenlist>=1.1.1 in /usr/local/Caskroom/miniconda/base/envs/llama/lib/python3.10/site-packages (from aiohttp<4.0.0,>=3.8.3->langchain) (1.4.1)\r\n",
      "Requirement already satisfied: multidict<7.0,>=4.5 in /usr/local/Caskroom/miniconda/base/envs/llama/lib/python3.10/site-packages (from aiohttp<4.0.0,>=3.8.3->langchain) (6.0.5)\r\n",
      "Requirement already satisfied: yarl<2.0,>=1.0 in /usr/local/Caskroom/miniconda/base/envs/llama/lib/python3.10/site-packages (from aiohttp<4.0.0,>=3.8.3->langchain) (1.9.4)\r\n",
      "Requirement already satisfied: marshmallow<4.0.0,>=3.18.0 in /usr/local/Caskroom/miniconda/base/envs/llama/lib/python3.10/site-packages (from dataclasses-json<0.7,>=0.5.7->langchain) (3.21.1)\r\n",
      "Requirement already satisfied: typing-inspect<1,>=0.4.0 in /usr/local/Caskroom/miniconda/base/envs/llama/lib/python3.10/site-packages (from dataclasses-json<0.7,>=0.5.7->langchain) (0.9.0)\r\n",
      "Requirement already satisfied: filelock in /usr/local/Caskroom/miniconda/base/envs/llama/lib/python3.10/site-packages (from huggingface-hub>=0.19.0->huggingface-hub[inference]>=0.19.0->llama-index-embeddings-huggingface) (3.13.1)\r\n",
      "Requirement already satisfied: fsspec>=2023.5.0 in /usr/local/Caskroom/miniconda/base/envs/llama/lib/python3.10/site-packages (from huggingface-hub>=0.19.0->huggingface-hub[inference]>=0.19.0->llama-index-embeddings-huggingface) (2024.3.0)\r\n",
      "Requirement already satisfied: tqdm>=4.42.1 in /usr/local/Caskroom/miniconda/base/envs/llama/lib/python3.10/site-packages (from huggingface-hub>=0.19.0->huggingface-hub[inference]>=0.19.0->llama-index-embeddings-huggingface) (4.66.2)\r\n",
      "Requirement already satisfied: typing-extensions>=3.7.4.3 in /usr/local/Caskroom/miniconda/base/envs/llama/lib/python3.10/site-packages (from huggingface-hub>=0.19.0->huggingface-hub[inference]>=0.19.0->llama-index-embeddings-huggingface) (4.10.0)\r\n",
      "Requirement already satisfied: packaging>=20.9 in /usr/local/Caskroom/miniconda/base/envs/llama/lib/python3.10/site-packages (from huggingface-hub>=0.19.0->huggingface-hub[inference]>=0.19.0->llama-index-embeddings-huggingface) (23.2)\r\n",
      "Requirement already satisfied: jsonpointer>=1.9 in /usr/local/Caskroom/miniconda/base/envs/llama/lib/python3.10/site-packages (from jsonpatch<2.0,>=1.33->langchain) (2.4)\r\n",
      "Requirement already satisfied: anyio<5,>=3 in /usr/local/Caskroom/miniconda/base/envs/llama/lib/python3.10/site-packages (from langchain-core<0.2.0,>=0.1.33->langchain) (3.7.1)\r\n",
      "Requirement already satisfied: orjson<4.0.0,>=3.9.14 in /usr/local/Caskroom/miniconda/base/envs/llama/lib/python3.10/site-packages (from langsmith<0.2.0,>=0.1.17->langchain) (3.9.15)\r\n",
      "Requirement already satisfied: openai>=1.14.0 in /usr/local/Caskroom/miniconda/base/envs/llama/lib/python3.10/site-packages (from llama-index-agent-openai<0.3.0,>=0.1.4->llama-index) (1.16.2)\r\n",
      "Requirement already satisfied: deprecated>=1.2.9.3 in /usr/local/Caskroom/miniconda/base/envs/llama/lib/python3.10/site-packages (from llama-index-core<0.11.0,>=0.10.27->llama-index) (1.2.14)\r\n",
      "Requirement already satisfied: dirtyjson<2.0.0,>=1.0.8 in /usr/local/Caskroom/miniconda/base/envs/llama/lib/python3.10/site-packages (from llama-index-core<0.11.0,>=0.10.27->llama-index) (1.0.8)\r\n",
      "Requirement already satisfied: httpx in /usr/local/Caskroom/miniconda/base/envs/llama/lib/python3.10/site-packages (from llama-index-core<0.11.0,>=0.10.27->llama-index) (0.27.0)\r\n",
      "Requirement already satisfied: llamaindex-py-client<0.2.0,>=0.1.16 in /usr/local/Caskroom/miniconda/base/envs/llama/lib/python3.10/site-packages (from llama-index-core<0.11.0,>=0.10.27->llama-index) (0.1.16)\r\n",
      "Requirement already satisfied: nest-asyncio<2.0.0,>=1.5.8 in /usr/local/Caskroom/miniconda/base/envs/llama/lib/python3.10/site-packages (from llama-index-core<0.11.0,>=0.10.27->llama-index) (1.6.0)\r\n",
      "Requirement already satisfied: networkx>=3.0 in /usr/local/Caskroom/miniconda/base/envs/llama/lib/python3.10/site-packages (from llama-index-core<0.11.0,>=0.10.27->llama-index) (3.2.1)\r\n",
      "Requirement already satisfied: nltk<4.0.0,>=3.8.1 in /usr/local/Caskroom/miniconda/base/envs/llama/lib/python3.10/site-packages (from llama-index-core<0.11.0,>=0.10.27->llama-index) (3.8.1)\r\n",
      "Requirement already satisfied: pandas in /usr/local/Caskroom/miniconda/base/envs/llama/lib/python3.10/site-packages (from llama-index-core<0.11.0,>=0.10.27->llama-index) (2.2.1)\r\n",
      "Requirement already satisfied: pillow>=9.0.0 in /usr/local/Caskroom/miniconda/base/envs/llama/lib/python3.10/site-packages (from llama-index-core<0.11.0,>=0.10.27->llama-index) (10.3.0)\r\n",
      "Requirement already satisfied: tiktoken>=0.3.3 in /usr/local/Caskroom/miniconda/base/envs/llama/lib/python3.10/site-packages (from llama-index-core<0.11.0,>=0.10.27->llama-index) (0.6.0)\r\n",
      "Requirement already satisfied: wrapt in /usr/local/Caskroom/miniconda/base/envs/llama/lib/python3.10/site-packages (from llama-index-core<0.11.0,>=0.10.27->llama-index) (1.16.0)\r\n",
      "Requirement already satisfied: beautifulsoup4<5.0.0,>=4.12.3 in /usr/local/Caskroom/miniconda/base/envs/llama/lib/python3.10/site-packages (from llama-index-readers-file<0.2.0,>=0.1.4->llama-index) (4.12.3)\r\n",
      "Requirement already satisfied: pymupdf<2.0.0,>=1.23.21 in /usr/local/Caskroom/miniconda/base/envs/llama/lib/python3.10/site-packages (from llama-index-readers-file<0.2.0,>=0.1.4->llama-index) (1.24.1)\r\n",
      "Requirement already satisfied: pypdf<5.0.0,>=4.0.1 in /usr/local/Caskroom/miniconda/base/envs/llama/lib/python3.10/site-packages (from llama-index-readers-file<0.2.0,>=0.1.4->llama-index) (4.1.0)\r\n",
      "Requirement already satisfied: striprtf<0.0.27,>=0.0.26 in /usr/local/Caskroom/miniconda/base/envs/llama/lib/python3.10/site-packages (from llama-index-readers-file<0.2.0,>=0.1.4->llama-index) (0.0.26)\r\n",
      "Requirement already satisfied: llama-parse<0.5.0,>=0.4.0 in /usr/local/Caskroom/miniconda/base/envs/llama/lib/python3.10/site-packages (from llama-index-readers-llama-parse<0.2.0,>=0.1.2->llama-index) (0.4.0)\r\n",
      "Requirement already satisfied: annotated-types>=0.4.0 in /usr/local/Caskroom/miniconda/base/envs/llama/lib/python3.10/site-packages (from pydantic<3,>=1->langchain) (0.6.0)\r\n",
      "Requirement already satisfied: pydantic-core==2.16.3 in /usr/local/Caskroom/miniconda/base/envs/llama/lib/python3.10/site-packages (from pydantic<3,>=1->langchain) (2.16.3)\r\n",
      "Requirement already satisfied: charset-normalizer<4,>=2 in /usr/local/Caskroom/miniconda/base/envs/llama/lib/python3.10/site-packages (from requests<3,>=2->langchain) (3.3.2)\r\n",
      "Requirement already satisfied: idna<4,>=2.5 in /usr/local/Caskroom/miniconda/base/envs/llama/lib/python3.10/site-packages (from requests<3,>=2->langchain) (3.6)\r\n",
      "Requirement already satisfied: urllib3<3,>=1.21.1 in /usr/local/Caskroom/miniconda/base/envs/llama/lib/python3.10/site-packages (from requests<3,>=2->langchain) (2.2.1)\r\n",
      "Requirement already satisfied: certifi>=2017.4.17 in /usr/local/Caskroom/miniconda/base/envs/llama/lib/python3.10/site-packages (from requests<3,>=2->langchain) (2024.2.2)\r\n",
      "Requirement already satisfied: torch>=1.11.0 in /usr/local/Caskroom/miniconda/base/envs/llama/lib/python3.10/site-packages (from sentence-transformers<3.0.0,>=2.6.1->llama-index-embeddings-huggingface) (2.1.2)\r\n",
      "Requirement already satisfied: scikit-learn in /usr/local/Caskroom/miniconda/base/envs/llama/lib/python3.10/site-packages (from sentence-transformers<3.0.0,>=2.6.1->llama-index-embeddings-huggingface) (1.4.1.post1)\r\n",
      "Requirement already satisfied: scipy in /usr/local/Caskroom/miniconda/base/envs/llama/lib/python3.10/site-packages (from sentence-transformers<3.0.0,>=2.6.1->llama-index-embeddings-huggingface) (1.12.0)\r\n",
      "Requirement already satisfied: greenlet!=0.4.17 in /usr/local/Caskroom/miniconda/base/envs/llama/lib/python3.10/site-packages (from SQLAlchemy<3,>=1.4->langchain) (3.0.3)\r\n",
      "Requirement already satisfied: regex!=2019.12.17 in /usr/local/Caskroom/miniconda/base/envs/llama/lib/python3.10/site-packages (from transformers<5.0.0,>=4.37.0->llama-index-llms-openai-like) (2023.12.25)\r\n",
      "Requirement already satisfied: tokenizers<0.19,>=0.14 in /usr/local/Caskroom/miniconda/base/envs/llama/lib/python3.10/site-packages (from transformers<5.0.0,>=4.37.0->llama-index-llms-openai-like) (0.15.2)\r\n",
      "Requirement already satisfied: safetensors>=0.4.1 in /usr/local/Caskroom/miniconda/base/envs/llama/lib/python3.10/site-packages (from transformers<5.0.0,>=4.37.0->llama-index-llms-openai-like) (0.4.2)\r\n",
      "Requirement already satisfied: sniffio>=1.1 in /usr/local/Caskroom/miniconda/base/envs/llama/lib/python3.10/site-packages (from anyio<5,>=3->langchain-core<0.2.0,>=0.1.33->langchain) (1.3.1)\r\n",
      "Requirement already satisfied: exceptiongroup in /usr/local/Caskroom/miniconda/base/envs/llama/lib/python3.10/site-packages (from anyio<5,>=3->langchain-core<0.2.0,>=0.1.33->langchain) (1.2.0)\r\n",
      "Requirement already satisfied: soupsieve>1.2 in /usr/local/Caskroom/miniconda/base/envs/llama/lib/python3.10/site-packages (from beautifulsoup4<5.0.0,>=4.12.3->llama-index-readers-file<0.2.0,>=0.1.4->llama-index) (2.5)\r\n",
      "Requirement already satisfied: httpcore==1.* in /usr/local/Caskroom/miniconda/base/envs/llama/lib/python3.10/site-packages (from httpx->llama-index-core<0.11.0,>=0.10.27->llama-index) (1.0.4)\r\n",
      "Requirement already satisfied: h11<0.15,>=0.13 in /usr/local/Caskroom/miniconda/base/envs/llama/lib/python3.10/site-packages (from httpcore==1.*->httpx->llama-index-core<0.11.0,>=0.10.27->llama-index) (0.14.0)\r\n",
      "Requirement already satisfied: click in /usr/local/Caskroom/miniconda/base/envs/llama/lib/python3.10/site-packages (from nltk<4.0.0,>=3.8.1->llama-index-core<0.11.0,>=0.10.27->llama-index) (8.1.7)\r\n",
      "Requirement already satisfied: joblib in /usr/local/Caskroom/miniconda/base/envs/llama/lib/python3.10/site-packages (from nltk<4.0.0,>=3.8.1->llama-index-core<0.11.0,>=0.10.27->llama-index) (1.3.2)\r\n",
      "Requirement already satisfied: distro<2,>=1.7.0 in /usr/local/Caskroom/miniconda/base/envs/llama/lib/python3.10/site-packages (from openai>=1.14.0->llama-index-agent-openai<0.3.0,>=0.1.4->llama-index) (1.9.0)\r\n",
      "Requirement already satisfied: PyMuPDFb==1.24.1 in /usr/local/Caskroom/miniconda/base/envs/llama/lib/python3.10/site-packages (from pymupdf<2.0.0,>=1.23.21->llama-index-readers-file<0.2.0,>=0.1.4->llama-index) (1.24.1)\r\n",
      "Requirement already satisfied: sympy in /usr/local/Caskroom/miniconda/base/envs/llama/lib/python3.10/site-packages (from torch>=1.11.0->sentence-transformers<3.0.0,>=2.6.1->llama-index-embeddings-huggingface) (1.12)\r\n",
      "Requirement already satisfied: jinja2 in /usr/local/Caskroom/miniconda/base/envs/llama/lib/python3.10/site-packages (from torch>=1.11.0->sentence-transformers<3.0.0,>=2.6.1->llama-index-embeddings-huggingface) (3.1.3)\r\n",
      "Requirement already satisfied: mypy-extensions>=0.3.0 in /usr/local/Caskroom/miniconda/base/envs/llama/lib/python3.10/site-packages (from typing-inspect<1,>=0.4.0->dataclasses-json<0.7,>=0.5.7->langchain) (1.0.0)\r\n",
      "Requirement already satisfied: python-dateutil>=2.8.2 in /usr/local/Caskroom/miniconda/base/envs/llama/lib/python3.10/site-packages (from pandas->llama-index-core<0.11.0,>=0.10.27->llama-index) (2.9.0)\r\n",
      "Requirement already satisfied: pytz>=2020.1 in /usr/local/Caskroom/miniconda/base/envs/llama/lib/python3.10/site-packages (from pandas->llama-index-core<0.11.0,>=0.10.27->llama-index) (2024.1)\r\n",
      "Requirement already satisfied: tzdata>=2022.7 in /usr/local/Caskroom/miniconda/base/envs/llama/lib/python3.10/site-packages (from pandas->llama-index-core<0.11.0,>=0.10.27->llama-index) (2024.1)\r\n",
      "Requirement already satisfied: threadpoolctl>=2.0.0 in /usr/local/Caskroom/miniconda/base/envs/llama/lib/python3.10/site-packages (from scikit-learn->sentence-transformers<3.0.0,>=2.6.1->llama-index-embeddings-huggingface) (3.4.0)\r\n",
      "Requirement already satisfied: six>=1.5 in /usr/local/Caskroom/miniconda/base/envs/llama/lib/python3.10/site-packages (from python-dateutil>=2.8.2->pandas->llama-index-core<0.11.0,>=0.10.27->llama-index) (1.16.0)\r\n",
      "Requirement already satisfied: MarkupSafe>=2.0 in /usr/local/Caskroom/miniconda/base/envs/llama/lib/python3.10/site-packages (from jinja2->torch>=1.11.0->sentence-transformers<3.0.0,>=2.6.1->llama-index-embeddings-huggingface) (2.1.5)\r\n",
      "Requirement already satisfied: mpmath>=0.19 in /usr/local/Caskroom/miniconda/base/envs/llama/lib/python3.10/site-packages (from sympy->torch>=1.11.0->sentence-transformers<3.0.0,>=2.6.1->llama-index-embeddings-huggingface) (1.3.0)\r\n",
      "Looking in indexes: http://mirrors.aliyun.com/pypi/simple/\r\n",
      "Requirement already satisfied: EbookLib in /usr/local/Caskroom/miniconda/base/envs/llama/lib/python3.10/site-packages (0.18)\r\n",
      "Requirement already satisfied: html2text in /usr/local/Caskroom/miniconda/base/envs/llama/lib/python3.10/site-packages (2024.2.26)\r\n",
      "Requirement already satisfied: lxml in /usr/local/Caskroom/miniconda/base/envs/llama/lib/python3.10/site-packages (from EbookLib) (5.1.0)\r\n",
      "Requirement already satisfied: six in /usr/local/Caskroom/miniconda/base/envs/llama/lib/python3.10/site-packages (from EbookLib) (1.16.0)\r\n"
     ]
    }
   ],
   "source": [
    "! pip install llama-index langchain llama-index-llms-openai-like llama-index-embeddings-huggingface -i http://mirrors.aliyun.com/pypi/simple/ --trusted-host mirrors.aliyun.com\n",
    "! pip install EbookLib html2text -i http://mirrors.aliyun.com/pypi/simple/ --trusted-host mirrors.aliyun.com\n",
    "! pip install langchain_openai    \n",
    "! pip install unstructured\n",
    "! pip install fastembed\n",
    "! pip install chromadb\n",
    "\n",
    "\n"
   ]
  },
  {
   "cell_type": "markdown",
   "metadata": {},
   "source": [
    "# 使用Qwen 1.5 14B int4 模型\n",
    "\n",
    "## Llama-index与langchain调用本地模型提供的类OpenAi restful接口\n",
    "\n",
    "## 使用q3_k_l 取得的效果也不错，但是size 比较小，ctx设置为1000和1200效果差不多\n",
    "\n",
    "[Llama 在不同量化设置下的效果](https://github.com/ymcui/Chinese-LLaMA-Alpaca/discussions/513)\n",
    "```bash\n",
    "./quantize  models/Qwen1.5-14B-Chat/ggml-model-f16.gguf models/Qwen1.5-14B-Chat/ggml-model-q4_k_l.gguf q3_k_l\n",
    "```\n",
    "\n",
    "## duckduckgo搜索引擎接入\n",
    "\n",
    "```bash\n",
    "git clone git@github.com:run-llama/llama_index.git\n",
    "pip install -e llama-index-integrations/tools/llama-index-tools-duckduckgo\n",
    "# 需要把duckduckgo-search 升级到5.3 否则会产生 DuckDuckGoSearchException: Ratelimit 报错\n",
    "pip install duckduckgo_search -U\n",
    "# 测试功能是否ok\n",
    "python -m duckduckgo_search text -k \"axon regeneration\"\n",
    "```\n"
   ]
  },
  {
   "cell_type": "code",
   "metadata": {
    "ExecuteTime": {
     "end_time": "2024-04-11T11:02:47.401303Z",
     "start_time": "2024-04-11T11:02:23.932595Z"
    }
   },
   "source": [
    "from llama_index.core.llms import ChatMessage\n",
    "from llama_index.llms.openai_like import OpenAILike\n",
    "\n",
    "# from llama_index. import ChatMessage, OpenAILike  \n",
    "\n",
    "li_llm = OpenAILike(\n",
    "    api_base=\"http://localhost:8000/\",\n",
    "    timeout=600,  # secs  \n",
    "    api_key=\"loremIpsum\",\n",
    "    is_chat_model=True,\n",
    "    context_window=32768,\n",
    ")\n",
    "chat_history = [\n",
    "    ChatMessage(role=\"system\", content=\"你是凡人修仙传中的男主角韩立\"),\n",
    "    ChatMessage(role=\"user\", content=\"你的道侣是谁？\"),\n",
    "]\n",
    "output = li_llm.chat(chat_history)\n",
    "print(output)"
   ],
   "outputs": [
    {
     "name": "stdout",
     "output_type": "stream",
     "text": [
      "assistant: 在我的修仙生涯中，我有过两位道侣。第一位是紫灵宗的弟子南宫婉，她是我初入修仙界时的伴侣，但后来因为一些变故我们不得不分开。第二位是云梦山的女弟子罗玉函，我们在斩魔合体后结为道侣，并一同经历了许多风雨。然而，最终我选择了独自修行，为了更高的境界和自我救赎。\n"
     ]
    }
   ],
   "execution_count": 46
  },
  {
   "cell_type": "code",
   "metadata": {
    "ExecuteTime": {
     "end_time": "2024-04-11T11:03:00.510540Z",
     "start_time": "2024-04-11T11:02:47.404739Z"
    }
   },
   "source": [
    "from langchain.schema import HumanMessage, SystemMessage\n",
    "from langchain_openai import ChatOpenAI\n",
    "\n",
    "lc_llm = ChatOpenAI(\n",
    "    openai_api_base=\"http://localhost:8000/\",\n",
    "    request_timeout=600,  # secs, I guess.  \n",
    "    openai_api_key=\"loremIpsum\",\n",
    "    max_tokens=32768,\n",
    ")\n",
    "chat_history = [\n",
    "    SystemMessage(content=\"你是凡人修仙传中的男主角韩立\"),\n",
    "    HumanMessage(content=\"你的道侣是谁？\"),\n",
    "]\n",
    "response = lc_llm(chat_history)\n",
    "print(response.content)"
   ],
   "outputs": [
    {
     "name": "stdout",
     "output_type": "stream",
     "text": [
      "在我的修仙生涯中，我有过数位女性伴侣。最初是与紫灵仙子的师门情谊，但并未发展成道侣关系。后来在乱星海遇到的南宫婉，我们共同经历了许多困苦和挑战，她成为了我的道侣。然而，命运多舛，南宫婉因缘际会而陨落，这对我造成了极大的打击。之后，我与云梦仙子秦雪有过一段短暂的婚姻，但最终也是以悲剧收场。在小说的后期，我才真正找到了合适的伴侣，那就是出身魔道、名叫墨reira的女子，她成为了我的最后一位道侣。\n"
     ]
    }
   ],
   "execution_count": 47
  },
  {
   "cell_type": "code",
   "metadata": {
    "ExecuteTime": {
     "end_time": "2024-04-11T11:03:01.142455Z",
     "start_time": "2024-04-11T11:03:00.514844Z"
    }
   },
   "source": [
    "from llama_index.embeddings.openai import OpenAIEmbedding\n",
    "\n",
    "embed_model = OpenAIEmbedding(api_base=\"http://localhost:8000/\", api_key=\"loremIpsum\")\n",
    "em = embed_model.get_text_embedding(\"你好\")\n",
    "print(em[:4])\n",
    "print(len(em))\n",
    "em = embed_model.get_text_embedding(\"我是韩立\")\n",
    "print(em[:4])\n",
    "print(len(em))"
   ],
   "outputs": [
    {
     "name": "stdout",
     "output_type": "stream",
     "text": [
      "[-0.003979421686381102, 0.003729475662112236, -0.0013667161110788584, -0.007342268712818623]\n",
      "5120\n",
      "[0.008632276207208633, 0.012390939518809319, 0.0025845025666058064, -0.0026363146025687456]\n",
      "5120\n"
     ]
    }
   ],
   "execution_count": 48
  },
  {
   "metadata": {
    "ExecuteTime": {
     "end_time": "2024-04-11T11:03:01.170411Z",
     "start_time": "2024-04-11T11:03:01.148893Z"
    }
   },
   "cell_type": "code",
   "source": [
    "from llama_index.core import Settings\n",
    "\n",
    "Settings.embed_model = embed_model\n",
    "Settings.llm = li_llm\n",
    "\n",
    "# initialize settings (set chunk size)\n",
    "# Settings.chunk_size = 1024\n"
   ],
   "outputs": [],
   "execution_count": 49
  },
  {
   "metadata": {
    "ExecuteTime": {
     "end_time": "2024-04-11T11:03:01.212964Z",
     "start_time": "2024-04-11T11:03:01.172365Z"
    }
   },
   "cell_type": "code",
   "source": [
    "from llama_index.core import SimpleDirectoryReader\n",
    "\n",
    "documents = SimpleDirectoryReader(\n",
    "    input_dir=\"/Users/ezonghu/Downloads/fanren\",\n",
    ").load_data()\n"
   ],
   "outputs": [],
   "execution_count": 50
  },
  {
   "metadata": {
    "ExecuteTime": {
     "end_time": "2024-04-11T11:03:01.366118Z",
     "start_time": "2024-04-11T11:03:01.213920Z"
    }
   },
   "cell_type": "code",
   "source": [
    "from llama_index.core.node_parser import SentenceSplitter\n",
    "\n",
    "parser = SentenceSplitter(separator=\"\\n\", chunk_size=128, chunk_overlap=30)\n",
    "nodes = parser.get_nodes_from_documents(documents, )\n"
   ],
   "outputs": [],
   "execution_count": 51
  },
  {
   "metadata": {
    "ExecuteTime": {
     "end_time": "2024-04-11T11:03:14.917524Z",
     "start_time": "2024-04-11T11:03:01.373219Z"
    }
   },
   "cell_type": "code",
   "source": [
    "from llama_index.core import VectorStoreIndex\n",
    "# global\n",
    "from llama_index.core import Settings\n",
    "\n",
    "Settings.text_splitter = parser\n",
    "index = VectorStoreIndex.from_documents(\n",
    "    documents,\n",
    "    transformations=[parser],\n",
    ")"
   ],
   "outputs": [],
   "execution_count": 52
  },
  {
   "metadata": {
    "ExecuteTime": {
     "end_time": "2024-04-11T11:03:14.964780Z",
     "start_time": "2024-04-11T11:03:14.920045Z"
    }
   },
   "cell_type": "code",
   "source": [
    "retriever = index.as_retriever(similarity_top_k=5)\n",
    "query_engine = index.as_query_engine(llm=li_llm, similarity_top_k=5)\n"
   ],
   "outputs": [],
   "execution_count": 53
  },
  {
   "metadata": {
    "ExecuteTime": {
     "end_time": "2024-04-11T11:04:01.626188Z",
     "start_time": "2024-04-11T11:03:14.966291Z"
    }
   },
   "cell_type": "code",
   "source": [
    "queries = [\"韩立的道侣\", \"韩立的妻子\", \"韩立的道侣的本命法宝和功法\", \"南宫婉本命法宝和功法\", \"韩立的妻子有什么能力\"]\n",
    "for q in queries:\n",
    "    response = query_engine.query(q)\n",
    "    print(f\"{q}:{response}\")\n",
    "    nodes = retriever.retrieve(q)\n",
    "    for i, n in enumerate(nodes):\n",
    "        print(i, n)"
   ],
   "outputs": [
    {
     "name": "stdout",
     "output_type": "stream",
     "text": [
      "韩立的道侣:南宫婉是韩立的双修道侣。\n",
      "0 Node ID: eaa74574-ecf9-45d4-9104-b3d6a5f2970b\n",
      "Text: 韩立在进阶大乘后到小灵天将南宫婉寻回。韩立飞升仙界时滞留灵界人族青元宫。\n",
      "Score:  0.854\n",
      "\n",
      "1 Node ID: a01a8c9b-d346-48aa-b888-efa3814564aa\n",
      "Text: 为徒。韩立于其帮衬良多，与韩立情愫暗生。后在韩立帮助下渡过飞升之劫，成功飞升仙界。 银月 韩立红颜知己。\n",
      "Score:  0.854\n",
      "\n",
      "2 Node ID: c04a1cbf-6935-48ad-8cc6-95301c3ec696\n",
      "Text: 道侣 南宫婉\n",
      "韩立双修道侣。掩月宗女修，本命法宝朱雀环，修炼素女轮回功。在血色禁地和韩立合力击杀墨蛟，后因触碰墨蛟淫囊，和韩立颠鸾倒凤。\n",
      "Score:  0.837\n",
      "\n",
      "3 Node ID: b063f3ef-4525-4b4b-b3c1-12deb73a8cbf\n",
      "Text:\n",
      "元婴初期与韩立结为道侣，韩立偷渡灵界后因修为不够暂留人界。后进阶化神，因出现意外飞升至小灵天。韩立在进阶大乘后到小灵天将南宫婉寻回。\n",
      "Score:  0.827\n",
      "\n",
      "4 Node ID: ba2f375a-5964-4eeb-b01b-975002ad6ae5\n",
      "Text: 银月 韩立红颜知己。又名雪玲，本是灵界银月妖狼玲珑仙子两魂之一。\n",
      "Score:  0.827\n",
      "\n",
      "韩立的妻子:南宫婉是韩立的双修道侣。\n",
      "0 Node ID: eaa74574-ecf9-45d4-9104-b3d6a5f2970b\n",
      "Text: 韩立在进阶大乘后到小灵天将南宫婉寻回。韩立飞升仙界时滞留灵界人族青元宫。\n",
      "Score:  0.857\n",
      "\n",
      "1 Node ID: a01a8c9b-d346-48aa-b888-efa3814564aa\n",
      "Text: 为徒。韩立于其帮衬良多，与韩立情愫暗生。后在韩立帮助下渡过飞升之劫，成功飞升仙界。 银月 韩立红颜知己。\n",
      "Score:  0.839\n",
      "\n",
      "2 Node ID: c04a1cbf-6935-48ad-8cc6-95301c3ec696\n",
      "Text: 道侣 南宫婉\n",
      "韩立双修道侣。掩月宗女修，本命法宝朱雀环，修炼素女轮回功。在血色禁地和韩立合力击杀墨蛟，后因触碰墨蛟淫囊，和韩立颠鸾倒凤。\n",
      "Score:  0.835\n",
      "\n",
      "3 Node ID: 6d9f37d3-7e61-49b9-8003-83e51801534f\n",
      "Text: 的师姐不死重生付出极大代价，与师姐修炼阴阳轮回诀被未知通道吸入灵界，后被姜老怪/青元子收为徒。韩立于其帮衬良多，与韩立情愫暗生。\n",
      "Score:  0.834\n",
      "\n",
      "4 Node ID: b063f3ef-4525-4b4b-b3c1-12deb73a8cbf\n",
      "Text:\n",
      "元婴初期与韩立结为道侣，韩立偷渡灵界后因修为不够暂留人界。后进阶化神，因出现意外飞升至小灵天。韩立在进阶大乘后到小灵天将南宫婉寻回。\n",
      "Score:  0.833\n",
      "\n",
      "韩立的道侣的本命法宝和功法:南宫婉的本命法宝是朱雀环，她修炼的功法是素女轮回功。\n",
      "0 Node ID: eaa74574-ecf9-45d4-9104-b3d6a5f2970b\n",
      "Text: 韩立在进阶大乘后到小灵天将南宫婉寻回。韩立飞升仙界时滞留灵界人族青元宫。\n",
      "Score:  0.841\n",
      "\n",
      "1 Node ID: ba2f375a-5964-4eeb-b01b-975002ad6ae5\n",
      "Text: 银月 韩立红颜知己。又名雪玲，本是灵界银月妖狼玲珑仙子两魂之一。\n",
      "Score:  0.830\n",
      "\n",
      "2 Node ID: c04a1cbf-6935-48ad-8cc6-95301c3ec696\n",
      "Text: 道侣 南宫婉\n",
      "韩立双修道侣。掩月宗女修，本命法宝朱雀环，修炼素女轮回功。在血色禁地和韩立合力击杀墨蛟，后因触碰墨蛟淫囊，和韩立颠鸾倒凤。\n",
      "Score:  0.828\n",
      "\n",
      "3 Node ID: d8a87477-0825-48ad-9ea9-b5c0f7b297d8\n",
      "Text: 知道韩立小瓶子秘密的人，后脱困回灵界，因祸得福觉醒七星月体；为了进阶合体修炼忘情诀，因韩立产生心魔，在敖啸老祖韩立的帮助下逐渐摆\n",
      "脱忘情诀的控制\n",
      "Score:  0.823\n",
      "\n",
      "4 Node ID: b063f3ef-4525-4b4b-b3c1-12deb73a8cbf\n",
      "Text:\n",
      "元婴初期与韩立结为道侣，韩立偷渡灵界后因修为不够暂留人界。后进阶化神，因出现意外飞升至小灵天。韩立在进阶大乘后到小灵天将南宫婉寻回。\n",
      "Score:  0.818\n",
      "\n",
      "南宫婉本命法宝和功法:南宫婉的本命法宝是朱雀环，她修炼的功法是素女轮回功。\n",
      "0 Node ID: eaa74574-ecf9-45d4-9104-b3d6a5f2970b\n",
      "Text: 韩立在进阶大乘后到小灵天将南宫婉寻回。韩立飞升仙界时滞留灵界人族青元宫。\n",
      "Score:  0.839\n",
      "\n",
      "1 Node ID: d8a87477-0825-48ad-9ea9-b5c0f7b297d8\n",
      "Text: 知道韩立小瓶子秘密的人，后脱困回灵界，因祸得福觉醒七星月体；为了进阶合体修炼忘情诀，因韩立产生心魔，在敖啸老祖韩立的帮助下逐渐摆\n",
      "脱忘情诀的控制\n",
      "Score:  0.824\n",
      "\n",
      "2 Node ID: b063f3ef-4525-4b4b-b3c1-12deb73a8cbf\n",
      "Text:\n",
      "元婴初期与韩立结为道侣，韩立偷渡灵界后因修为不够暂留人界。后进阶化神，因出现意外飞升至小灵天。韩立在进阶大乘后到小灵天将南宫婉寻回。\n",
      "Score:  0.811\n",
      "\n",
      "3 Node ID: c04a1cbf-6935-48ad-8cc6-95301c3ec696\n",
      "Text: 道侣 南宫婉\n",
      "韩立双修道侣。掩月宗女修，本命法宝朱雀环，修炼素女轮回功。在血色禁地和韩立合力击杀墨蛟，后因触碰墨蛟淫囊，和韩立颠鸾倒凤。\n",
      "Score:  0.810\n",
      "\n",
      "4 Node ID: ba2f375a-5964-4eeb-b01b-975002ad6ae5\n",
      "Text: 银月 韩立红颜知己。又名雪玲，本是灵界银月妖狼玲珑仙子两魂之一。\n",
      "Score:  0.809\n",
      "\n",
      "韩立的妻子有什么能力:南宫婉是韩立的双修道侣，她修炼素女轮回功，本命法宝为朱雀环。在血色禁地与韩立合力击杀墨蛟，并因某些原因触碰了墨蛟的淫囊，之后与韩立有过亲密互动。她的能力主要体现在修为和法宝上，但具体神通或技能未在给定的信息中明确提及。\n",
      "0 Node ID: 6d9f37d3-7e61-49b9-8003-83e51801534f\n",
      "Text: 的师姐不死重生付出极大代价，与师姐修炼阴阳轮回诀被未知通道吸入灵界，后被姜老怪/青元子收为徒。韩立于其帮衬良多，与韩立情愫暗生。\n",
      "Score:  0.822\n",
      "\n",
      "1 Node ID: eaa74574-ecf9-45d4-9104-b3d6a5f2970b\n",
      "Text: 韩立在进阶大乘后到小灵天将南宫婉寻回。韩立飞升仙界时滞留灵界人族青元宫。\n",
      "Score:  0.818\n",
      "\n",
      "2 Node ID: c04a1cbf-6935-48ad-8cc6-95301c3ec696\n",
      "Text: 道侣 南宫婉\n",
      "韩立双修道侣。掩月宗女修，本命法宝朱雀环，修炼素女轮回功。在血色禁地和韩立合力击杀墨蛟，后因触碰墨蛟淫囊，和韩立颠鸾倒凤。\n",
      "Score:  0.817\n",
      "\n",
      "3 Node ID: d8a87477-0825-48ad-9ea9-b5c0f7b297d8\n",
      "Text: 知道韩立小瓶子秘密的人，后脱困回灵界，因祸得福觉醒七星月体；为了进阶合体修炼忘情诀，因韩立产生心魔，在敖啸老祖韩立的帮助下逐渐摆\n",
      "脱忘情诀的控制\n",
      "Score:  0.817\n",
      "\n",
      "4 Node ID: ba2f375a-5964-4eeb-b01b-975002ad6ae5\n",
      "Text: 银月 韩立红颜知己。又名雪玲，本是灵界银月妖狼玲珑仙子两魂之一。\n",
      "Score:  0.808\n",
      "\n"
     ]
    }
   ],
   "execution_count": 54
  },
  {
   "metadata": {
    "ExecuteTime": {
     "end_time": "2024-04-11T11:04:08.887585Z",
     "start_time": "2024-04-11T11:04:01.632308Z"
    }
   },
   "cell_type": "code",
   "source": [
    "from llama_index.core.chat_engine.types import ChatMode\n",
    "\n",
    "engine = index.as_chat_engine(llm=li_llm, similarity_top_k=5, chat_mode=ChatMode.SIMPLE)\n",
    "output = engine.chat(\"韩立的妻子\")\n",
    "print(output)\n"
   ],
   "outputs": [
    {
     "name": "stdout",
     "output_type": "stream",
     "text": [
      "韩立是修真小说《凡人修仙传》中的主角，他在小说中并未提及有妻子。他的感情线主要围绕着几位女性角色发展，如紫灵、南宫婉、云梦幽等，但正式的配偶设定是在小说外传《三寸人间》中，与南宫婉结为夫妇。\n"
     ]
    }
   ],
   "execution_count": 55
  },
  {
   "metadata": {
    "ExecuteTime": {
     "end_time": "2024-04-11T11:04:30.353224Z",
     "start_time": "2024-04-11T11:04:08.890050Z"
    }
   },
   "cell_type": "code",
   "source": [
    "output = engine.chat(\"韩立的道侣本命法宝和功法\")\n",
    "print(output)"
   ],
   "outputs": [
    {
     "name": "stdout",
     "output_type": "stream",
     "text": [
      "在《凡人修仙传》中，韩立的本命法宝是一块通体碧绿的玉佩，名为“青竹蜂云剑”。这把剑是他从一个叫元瑶的女子手中得到，并通过自己的炼制和修炼，最终将其升级为一件威力强大的法宝。\n",
      "\n",
      "至于功法，韩立在修仙过程中使用过多种功法，最开始是拜入落云宗学习的基础功法“青阳决”，后来因为机缘巧合得到了一本名为《万毒篇》的秘籍，这是一门以毒攻毒、炼制丹药为主的功法。他还修炼了其他法宝的控制法诀，如“化神之术”等。\n",
      "\n",
      "在后续的小说《三寸人间》中，韩立又修炼了一套名为“元婴大法”的高级功法，这套功法让他在修仙路上更进一步。他的道侣南宫婉也有一门强大的功法，但具体名称小说中并未明确提及。\n"
     ]
    }
   ],
   "execution_count": 56
  },
  {
   "metadata": {
    "ExecuteTime": {
     "end_time": "2024-04-11T11:04:34.288334Z",
     "start_time": "2024-04-11T11:04:30.368760Z"
    }
   },
   "cell_type": "code",
   "source": [
    "from llama_index.tools.duckduckgo import DuckDuckGoSearchToolSpec\n",
    "\n",
    "tool_spec = DuckDuckGoSearchToolSpec()\n",
    "\n",
    "res = tool_spec.duckduckgo_full_search(\"韩立的妻子\", max_results=5, region='cn')\n",
    "for i in res:\n",
    "    print(i)"
   ],
   "outputs": [
    {
     "name": "stdout",
     "output_type": "stream",
     "text": [
      "{'title': '《凡人修仙传》中韩立老婆，小妾，情人，知己都全了，还缺啥', 'href': 'https://baijiahao.baidu.com/s?id=1594250394414341001', 'body': '其中韩立和女主感情戏的描写也是经典。主角韩立在近万年的修仙生涯中，一共收了四位红颜，和多为备选红颜。韩立的四位红颜都是顶尖美女，但是风格各异，代表了男女关系中的老婆，情人，小妾，知己四中关系。现在来盘点一下韩立的红颜。'}\n",
      "{'title': '南宫婉（《凡人修仙传》《凡人修仙之仙界篇》中韩立的伴侣）_百度百科', 'href': 'https://baike.baidu.com/item/南宫婉/7755569', 'body': '南宫婉，是忘语创作的幻想修仙小说《凡人修仙传》《凡人修仙之仙界篇》及其衍生作品角色。是韩立的伴侣，个性温和活泼、气质优雅高贵、容貌倾国倾城，和韩立一样一心向道。南宫婉极大影响了韩立的修仙轨迹，是韩立心中最重要的人。仙界篇中与甘如霜属于不同时间线上独立的两个人，而 ...'}\n",
      "{'title': '凡人修仙传韩立有几个老婆 - 百度知道', 'href': 'https://zhidao.baidu.com/question/498579466592448212.html', 'body': '关注. 展开全部. 《凡人修仙传》 里韩立有1位妻子： 南宫婉 ；3位红颜知己： 紫灵仙子 、银月、 元瑶 ；1位侍妾： 慕沛灵 ；另外还有对韩立有好感的女性：陈巧倩、梅凝。. 在最终结尾的仙界篇里，陪在韩立身边的只有南宫婉和紫灵仙子。. 南宫婉. 掩月宗女修 ...'}\n",
      "{'title': '凡人修仙传中，南宫婉怎么了，韩立就这么抛下她飞升了？ - 知乎', 'href': 'https://www.zhihu.com/question/389307534', 'body': '题主问的是韩立从人界飞升灵界的那次，还是从灵界飞升仙界的那次？ 《凡人修仙传》里，韩立两次飞升。第一次在1261章，韩立进阶化神期后，与冰凤一起，进入空间节点，前往灵界；第二次是2446章，韩立大乘期圆满，在南宫婉、银月、元瑶等人的注视下，打破天劫，飞升仙界。'}\n",
      "{'title': '《凡人修仙传》主人公韩立有多少个情人？她们的结局如何？ - 哔哩哔哩', 'href': 'https://www.bilibili.com/read/cv17334131/', 'body': '本文中我们分别在天南和乱星海两个地方来解答这个问题在凡人修仙传中的女修在感情上有三种命运，要么双休，要么成为高阶男修士的侍妾或者炉鼎。当然了，韩立虽然被读者们称为老魔，却没有做出逼迫女子成为他的炉鼎的邪魔歪道之举。他惹下了不少风流债，但妻子自始至终只有南宫婉一人。'}\n"
     ]
    }
   ],
   "execution_count": 57
  },
  {
   "metadata": {
    "ExecuteTime": {
     "end_time": "2024-04-11T11:09:11.166768Z",
     "start_time": "2024-04-11T11:08:09.321023Z"
    }
   },
   "cell_type": "code",
   "source": [
    "from typing import List, Dict\n",
    "from llama_index.core.agent import ReActAgent\n",
    "from llama_index.core.tools import FunctionTool\n",
    "\n",
    "def multiply(a: int, b: int) -> int:\n",
    "    \"\"\"Multiply two integers and returns the result integer\"\"\"\n",
    "    return a * b\n",
    "\n",
    "\n",
    "multiply_tool = FunctionTool.from_defaults(fn=multiply)\n",
    "\n",
    "def add(a: int, b: int) -> int:\n",
    "    \"\"\"Add two integers and returns the result integer\"\"\"\n",
    "    return a + b\n",
    "\n",
    "\n",
    "add_tool = FunctionTool.from_defaults(fn=add)\n",
    "\n",
    "\n",
    "tool_spec = DuckDuckGoSearchToolSpec()\n",
    "def search_engine(query: str, language:str) -> List[Dict[str, str]]:\n",
    "    \"\"\"Search the web and returns the result in json format\"\"\"  \n",
    "    return tool_spec.duckduckgo_full_search(query, max_results=5, region=language)\n",
    "\n",
    "query_tool = FunctionTool.from_defaults(fn=search_engine)\n",
    "\n",
    "agent = ReActAgent.from_tools([multiply_tool, add_tool, query_tool], llm=li_llm, verbose=True)\n",
    "response = agent.chat(\"2+2*4\")\n",
    "print(response)"
   ],
   "outputs": [
    {
     "name": "stdout",
     "output_type": "stream",
     "text": [
      "\u001B[1;3;38;5;200mThought: The current language of the user is: English. I need to use a tool to help me answer the question, as it involves arithmetic operations.\n",
      "Action: add\n",
      "Action Input: {}\n",
      "\u001B[0m\u001B[1;3;34mObservation: Error: add() missing 2 required positional arguments: 'a' and 'b'\n",
      "\u001B[0m\u001B[1;3;38;5;200mThought: The error indicates that the add function requires two arguments, but I only provided an empty input. To correctly perform the operation, I need to use the multiply tool first.\n",
      "Action: multiply\n",
      "Action Input: {}\n",
      "\u001B[0m\u001B[1;3;34mObservation: Error: multiply() missing 2 required positional arguments: 'a' and 'b'\n",
      "\u001B[0m\u001B[1;3;38;5;200mThought: The multiply function also requires two arguments. I need to provide the numbers 2 and 4 as inputs to perform the operation step by step. Now, I'll use the correct format.\n",
      "Action: multiply\n",
      "Action Input: {'a': 2, 'b': 4}\n",
      "\u001B[0m\u001B[1;3;34mObservation: 8\n",
      "\u001B[0m\u001B[1;3;38;5;200mThought: Now that I have the result from multiplication, I can perform the next operation which is addition.\n",
      "Action: add\n",
      "Action Input: {'a': 2, 'b': 8}\n",
      "\u001B[0m\u001B[1;3;34mObservation: 10\n",
      "\u001B[0m\u001B[1;3;38;5;200mThought: I can answer without using any more tools. The final result is 10.\n",
      "Answer: The result of the expression 2 + (2 * 4) is 10.\n",
      "\u001B[0mThe result of the expression 2 + (2 * 4) is 10.\n"
     ]
    }
   ],
   "execution_count": 60
  }
 ],
 "metadata": {
  "kernelspec": {
   "display_name": "Python 3 (ipykernel)",
   "language": "python",
   "name": "python3"
  },
  "language_info": {
   "codemirror_mode": {
    "name": "ipython",
    "version": 3
   },
   "file_extension": ".py",
   "mimetype": "text/x-python",
   "name": "python",
   "nbconvert_exporter": "python",
   "pygments_lexer": "ipython3",
   "version": "3.10.13"
  }
 },
 "nbformat": 4,
 "nbformat_minor": 2
}
