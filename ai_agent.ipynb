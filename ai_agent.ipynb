{
 "cells": [
  {
   "cell_type": "code",
   "execution_count": 2,
   "metadata": {
    "ExecuteTime": {
     "end_time": "2024-04-07T12:35:15.769247Z",
     "start_time": "2024-04-07T12:35:06.328468Z"
    }
   },
   "outputs": [
    {
     "name": "stdout",
     "output_type": "stream",
     "text": [
      "Looking in indexes: http://mirrors.aliyun.com/pypi/simple/\r\n",
      "Requirement already satisfied: llama-index in /usr/local/Caskroom/miniconda/base/envs/llama/lib/python3.10/site-packages (0.10.27)\r\n",
      "Requirement already satisfied: langchain in /usr/local/Caskroom/miniconda/base/envs/llama/lib/python3.10/site-packages (0.1.13)\r\n",
      "Requirement already satisfied: llama-index-llms-openai-like in /usr/local/Caskroom/miniconda/base/envs/llama/lib/python3.10/site-packages (0.1.3)\r\n",
      "Requirement already satisfied: llama-index-embeddings-huggingface in /usr/local/Caskroom/miniconda/base/envs/llama/lib/python3.10/site-packages (0.2.0)\r\n",
      "Requirement already satisfied: llama-index-agent-openai<0.3.0,>=0.1.4 in /usr/local/Caskroom/miniconda/base/envs/llama/lib/python3.10/site-packages (from llama-index) (0.2.2)\r\n",
      "Requirement already satisfied: llama-index-cli<0.2.0,>=0.1.2 in /usr/local/Caskroom/miniconda/base/envs/llama/lib/python3.10/site-packages (from llama-index) (0.1.11)\r\n",
      "Requirement already satisfied: llama-index-core<0.11.0,>=0.10.27 in /usr/local/Caskroom/miniconda/base/envs/llama/lib/python3.10/site-packages (from llama-index) (0.10.27)\r\n",
      "Requirement already satisfied: llama-index-embeddings-openai<0.2.0,>=0.1.5 in /usr/local/Caskroom/miniconda/base/envs/llama/lib/python3.10/site-packages (from llama-index) (0.1.7)\r\n",
      "Requirement already satisfied: llama-index-indices-managed-llama-cloud<0.2.0,>=0.1.2 in /usr/local/Caskroom/miniconda/base/envs/llama/lib/python3.10/site-packages (from llama-index) (0.1.5)\r\n",
      "Requirement already satisfied: llama-index-legacy<0.10.0,>=0.9.48 in /usr/local/Caskroom/miniconda/base/envs/llama/lib/python3.10/site-packages (from llama-index) (0.9.48)\r\n",
      "Requirement already satisfied: llama-index-llms-openai<0.2.0,>=0.1.13 in /usr/local/Caskroom/miniconda/base/envs/llama/lib/python3.10/site-packages (from llama-index) (0.1.14)\r\n",
      "Requirement already satisfied: llama-index-multi-modal-llms-openai<0.2.0,>=0.1.3 in /usr/local/Caskroom/miniconda/base/envs/llama/lib/python3.10/site-packages (from llama-index) (0.1.4)\r\n",
      "Requirement already satisfied: llama-index-program-openai<0.2.0,>=0.1.3 in /usr/local/Caskroom/miniconda/base/envs/llama/lib/python3.10/site-packages (from llama-index) (0.1.5)\r\n",
      "Requirement already satisfied: llama-index-question-gen-openai<0.2.0,>=0.1.2 in /usr/local/Caskroom/miniconda/base/envs/llama/lib/python3.10/site-packages (from llama-index) (0.1.3)\r\n",
      "Requirement already satisfied: llama-index-readers-file<0.2.0,>=0.1.4 in /usr/local/Caskroom/miniconda/base/envs/llama/lib/python3.10/site-packages (from llama-index) (0.1.13)\r\n",
      "Requirement already satisfied: llama-index-readers-llama-parse<0.2.0,>=0.1.2 in /usr/local/Caskroom/miniconda/base/envs/llama/lib/python3.10/site-packages (from llama-index) (0.1.4)\r\n",
      "Requirement already satisfied: PyYAML>=5.3 in /usr/local/Caskroom/miniconda/base/envs/llama/lib/python3.10/site-packages (from langchain) (6.0.1)\r\n",
      "Requirement already satisfied: SQLAlchemy<3,>=1.4 in /usr/local/Caskroom/miniconda/base/envs/llama/lib/python3.10/site-packages (from langchain) (2.0.28)\r\n",
      "Requirement already satisfied: aiohttp<4.0.0,>=3.8.3 in /usr/local/Caskroom/miniconda/base/envs/llama/lib/python3.10/site-packages (from langchain) (3.9.3)\r\n",
      "Requirement already satisfied: async-timeout<5.0.0,>=4.0.0 in /usr/local/Caskroom/miniconda/base/envs/llama/lib/python3.10/site-packages (from langchain) (4.0.3)\r\n",
      "Requirement already satisfied: dataclasses-json<0.7,>=0.5.7 in /usr/local/Caskroom/miniconda/base/envs/llama/lib/python3.10/site-packages (from langchain) (0.6.4)\r\n",
      "Requirement already satisfied: jsonpatch<2.0,>=1.33 in /usr/local/Caskroom/miniconda/base/envs/llama/lib/python3.10/site-packages (from langchain) (1.33)\r\n",
      "Requirement already satisfied: langchain-community<0.1,>=0.0.29 in /usr/local/Caskroom/miniconda/base/envs/llama/lib/python3.10/site-packages (from langchain) (0.0.29)\r\n",
      "Requirement already satisfied: langchain-core<0.2.0,>=0.1.33 in /usr/local/Caskroom/miniconda/base/envs/llama/lib/python3.10/site-packages (from langchain) (0.1.33)\r\n",
      "Requirement already satisfied: langchain-text-splitters<0.1,>=0.0.1 in /usr/local/Caskroom/miniconda/base/envs/llama/lib/python3.10/site-packages (from langchain) (0.0.1)\r\n",
      "Requirement already satisfied: langsmith<0.2.0,>=0.1.17 in /usr/local/Caskroom/miniconda/base/envs/llama/lib/python3.10/site-packages (from langchain) (0.1.31)\r\n",
      "Requirement already satisfied: numpy<2,>=1 in /usr/local/Caskroom/miniconda/base/envs/llama/lib/python3.10/site-packages (from langchain) (1.24.4)\r\n",
      "Requirement already satisfied: pydantic<3,>=1 in /usr/local/Caskroom/miniconda/base/envs/llama/lib/python3.10/site-packages (from langchain) (2.6.4)\r\n",
      "Requirement already satisfied: requests<3,>=2 in /usr/local/Caskroom/miniconda/base/envs/llama/lib/python3.10/site-packages (from langchain) (2.31.0)\r\n",
      "Requirement already satisfied: tenacity<9.0.0,>=8.1.0 in /usr/local/Caskroom/miniconda/base/envs/llama/lib/python3.10/site-packages (from langchain) (8.2.3)\r\n",
      "Requirement already satisfied: transformers<5.0.0,>=4.37.0 in /usr/local/Caskroom/miniconda/base/envs/llama/lib/python3.10/site-packages (from llama-index-llms-openai-like) (4.38.2)\r\n",
      "Requirement already satisfied: huggingface-hub>=0.19.0 in /usr/local/Caskroom/miniconda/base/envs/llama/lib/python3.10/site-packages (from huggingface-hub[inference]>=0.19.0->llama-index-embeddings-huggingface) (0.21.4)\r\n",
      "Requirement already satisfied: sentence-transformers<3.0.0,>=2.6.1 in /usr/local/Caskroom/miniconda/base/envs/llama/lib/python3.10/site-packages (from llama-index-embeddings-huggingface) (2.6.1)\r\n",
      "Requirement already satisfied: aiosignal>=1.1.2 in /usr/local/Caskroom/miniconda/base/envs/llama/lib/python3.10/site-packages (from aiohttp<4.0.0,>=3.8.3->langchain) (1.3.1)\r\n",
      "Requirement already satisfied: attrs>=17.3.0 in /usr/local/Caskroom/miniconda/base/envs/llama/lib/python3.10/site-packages (from aiohttp<4.0.0,>=3.8.3->langchain) (23.2.0)\r\n",
      "Requirement already satisfied: frozenlist>=1.1.1 in /usr/local/Caskroom/miniconda/base/envs/llama/lib/python3.10/site-packages (from aiohttp<4.0.0,>=3.8.3->langchain) (1.4.1)\r\n",
      "Requirement already satisfied: multidict<7.0,>=4.5 in /usr/local/Caskroom/miniconda/base/envs/llama/lib/python3.10/site-packages (from aiohttp<4.0.0,>=3.8.3->langchain) (6.0.5)\r\n",
      "Requirement already satisfied: yarl<2.0,>=1.0 in /usr/local/Caskroom/miniconda/base/envs/llama/lib/python3.10/site-packages (from aiohttp<4.0.0,>=3.8.3->langchain) (1.9.4)\r\n",
      "Requirement already satisfied: marshmallow<4.0.0,>=3.18.0 in /usr/local/Caskroom/miniconda/base/envs/llama/lib/python3.10/site-packages (from dataclasses-json<0.7,>=0.5.7->langchain) (3.21.1)\r\n",
      "Requirement already satisfied: typing-inspect<1,>=0.4.0 in /usr/local/Caskroom/miniconda/base/envs/llama/lib/python3.10/site-packages (from dataclasses-json<0.7,>=0.5.7->langchain) (0.9.0)\r\n",
      "Requirement already satisfied: filelock in /usr/local/Caskroom/miniconda/base/envs/llama/lib/python3.10/site-packages (from huggingface-hub>=0.19.0->huggingface-hub[inference]>=0.19.0->llama-index-embeddings-huggingface) (3.13.1)\r\n",
      "Requirement already satisfied: fsspec>=2023.5.0 in /usr/local/Caskroom/miniconda/base/envs/llama/lib/python3.10/site-packages (from huggingface-hub>=0.19.0->huggingface-hub[inference]>=0.19.0->llama-index-embeddings-huggingface) (2024.3.0)\r\n",
      "Requirement already satisfied: tqdm>=4.42.1 in /usr/local/Caskroom/miniconda/base/envs/llama/lib/python3.10/site-packages (from huggingface-hub>=0.19.0->huggingface-hub[inference]>=0.19.0->llama-index-embeddings-huggingface) (4.66.2)\r\n",
      "Requirement already satisfied: typing-extensions>=3.7.4.3 in /usr/local/Caskroom/miniconda/base/envs/llama/lib/python3.10/site-packages (from huggingface-hub>=0.19.0->huggingface-hub[inference]>=0.19.0->llama-index-embeddings-huggingface) (4.10.0)\r\n",
      "Requirement already satisfied: packaging>=20.9 in /usr/local/Caskroom/miniconda/base/envs/llama/lib/python3.10/site-packages (from huggingface-hub>=0.19.0->huggingface-hub[inference]>=0.19.0->llama-index-embeddings-huggingface) (23.2)\r\n",
      "Requirement already satisfied: jsonpointer>=1.9 in /usr/local/Caskroom/miniconda/base/envs/llama/lib/python3.10/site-packages (from jsonpatch<2.0,>=1.33->langchain) (2.4)\r\n",
      "Requirement already satisfied: anyio<5,>=3 in /usr/local/Caskroom/miniconda/base/envs/llama/lib/python3.10/site-packages (from langchain-core<0.2.0,>=0.1.33->langchain) (3.7.1)\r\n",
      "Requirement already satisfied: orjson<4.0.0,>=3.9.14 in /usr/local/Caskroom/miniconda/base/envs/llama/lib/python3.10/site-packages (from langsmith<0.2.0,>=0.1.17->langchain) (3.9.15)\r\n",
      "Requirement already satisfied: openai>=1.14.0 in /usr/local/Caskroom/miniconda/base/envs/llama/lib/python3.10/site-packages (from llama-index-agent-openai<0.3.0,>=0.1.4->llama-index) (1.16.2)\r\n",
      "Requirement already satisfied: deprecated>=1.2.9.3 in /usr/local/Caskroom/miniconda/base/envs/llama/lib/python3.10/site-packages (from llama-index-core<0.11.0,>=0.10.27->llama-index) (1.2.14)\r\n",
      "Requirement already satisfied: dirtyjson<2.0.0,>=1.0.8 in /usr/local/Caskroom/miniconda/base/envs/llama/lib/python3.10/site-packages (from llama-index-core<0.11.0,>=0.10.27->llama-index) (1.0.8)\r\n",
      "Requirement already satisfied: httpx in /usr/local/Caskroom/miniconda/base/envs/llama/lib/python3.10/site-packages (from llama-index-core<0.11.0,>=0.10.27->llama-index) (0.27.0)\r\n",
      "Requirement already satisfied: llamaindex-py-client<0.2.0,>=0.1.16 in /usr/local/Caskroom/miniconda/base/envs/llama/lib/python3.10/site-packages (from llama-index-core<0.11.0,>=0.10.27->llama-index) (0.1.16)\r\n",
      "Requirement already satisfied: nest-asyncio<2.0.0,>=1.5.8 in /usr/local/Caskroom/miniconda/base/envs/llama/lib/python3.10/site-packages (from llama-index-core<0.11.0,>=0.10.27->llama-index) (1.6.0)\r\n",
      "Requirement already satisfied: networkx>=3.0 in /usr/local/Caskroom/miniconda/base/envs/llama/lib/python3.10/site-packages (from llama-index-core<0.11.0,>=0.10.27->llama-index) (3.2.1)\r\n",
      "Requirement already satisfied: nltk<4.0.0,>=3.8.1 in /usr/local/Caskroom/miniconda/base/envs/llama/lib/python3.10/site-packages (from llama-index-core<0.11.0,>=0.10.27->llama-index) (3.8.1)\r\n",
      "Requirement already satisfied: pandas in /usr/local/Caskroom/miniconda/base/envs/llama/lib/python3.10/site-packages (from llama-index-core<0.11.0,>=0.10.27->llama-index) (2.2.1)\r\n",
      "Requirement already satisfied: pillow>=9.0.0 in /usr/local/Caskroom/miniconda/base/envs/llama/lib/python3.10/site-packages (from llama-index-core<0.11.0,>=0.10.27->llama-index) (10.3.0)\r\n",
      "Requirement already satisfied: tiktoken>=0.3.3 in /usr/local/Caskroom/miniconda/base/envs/llama/lib/python3.10/site-packages (from llama-index-core<0.11.0,>=0.10.27->llama-index) (0.6.0)\r\n",
      "Requirement already satisfied: wrapt in /usr/local/Caskroom/miniconda/base/envs/llama/lib/python3.10/site-packages (from llama-index-core<0.11.0,>=0.10.27->llama-index) (1.16.0)\r\n",
      "Requirement already satisfied: beautifulsoup4<5.0.0,>=4.12.3 in /usr/local/Caskroom/miniconda/base/envs/llama/lib/python3.10/site-packages (from llama-index-readers-file<0.2.0,>=0.1.4->llama-index) (4.12.3)\r\n",
      "Requirement already satisfied: pymupdf<2.0.0,>=1.23.21 in /usr/local/Caskroom/miniconda/base/envs/llama/lib/python3.10/site-packages (from llama-index-readers-file<0.2.0,>=0.1.4->llama-index) (1.24.1)\r\n",
      "Requirement already satisfied: pypdf<5.0.0,>=4.0.1 in /usr/local/Caskroom/miniconda/base/envs/llama/lib/python3.10/site-packages (from llama-index-readers-file<0.2.0,>=0.1.4->llama-index) (4.1.0)\r\n",
      "Requirement already satisfied: striprtf<0.0.27,>=0.0.26 in /usr/local/Caskroom/miniconda/base/envs/llama/lib/python3.10/site-packages (from llama-index-readers-file<0.2.0,>=0.1.4->llama-index) (0.0.26)\r\n",
      "Requirement already satisfied: llama-parse<0.5.0,>=0.4.0 in /usr/local/Caskroom/miniconda/base/envs/llama/lib/python3.10/site-packages (from llama-index-readers-llama-parse<0.2.0,>=0.1.2->llama-index) (0.4.0)\r\n",
      "Requirement already satisfied: annotated-types>=0.4.0 in /usr/local/Caskroom/miniconda/base/envs/llama/lib/python3.10/site-packages (from pydantic<3,>=1->langchain) (0.6.0)\r\n",
      "Requirement already satisfied: pydantic-core==2.16.3 in /usr/local/Caskroom/miniconda/base/envs/llama/lib/python3.10/site-packages (from pydantic<3,>=1->langchain) (2.16.3)\r\n",
      "Requirement already satisfied: charset-normalizer<4,>=2 in /usr/local/Caskroom/miniconda/base/envs/llama/lib/python3.10/site-packages (from requests<3,>=2->langchain) (3.3.2)\r\n",
      "Requirement already satisfied: idna<4,>=2.5 in /usr/local/Caskroom/miniconda/base/envs/llama/lib/python3.10/site-packages (from requests<3,>=2->langchain) (3.6)\r\n",
      "Requirement already satisfied: urllib3<3,>=1.21.1 in /usr/local/Caskroom/miniconda/base/envs/llama/lib/python3.10/site-packages (from requests<3,>=2->langchain) (2.2.1)\r\n",
      "Requirement already satisfied: certifi>=2017.4.17 in /usr/local/Caskroom/miniconda/base/envs/llama/lib/python3.10/site-packages (from requests<3,>=2->langchain) (2024.2.2)\r\n",
      "Requirement already satisfied: torch>=1.11.0 in /usr/local/Caskroom/miniconda/base/envs/llama/lib/python3.10/site-packages (from sentence-transformers<3.0.0,>=2.6.1->llama-index-embeddings-huggingface) (2.1.2)\r\n",
      "Requirement already satisfied: scikit-learn in /usr/local/Caskroom/miniconda/base/envs/llama/lib/python3.10/site-packages (from sentence-transformers<3.0.0,>=2.6.1->llama-index-embeddings-huggingface) (1.4.1.post1)\r\n",
      "Requirement already satisfied: scipy in /usr/local/Caskroom/miniconda/base/envs/llama/lib/python3.10/site-packages (from sentence-transformers<3.0.0,>=2.6.1->llama-index-embeddings-huggingface) (1.12.0)\r\n",
      "Requirement already satisfied: greenlet!=0.4.17 in /usr/local/Caskroom/miniconda/base/envs/llama/lib/python3.10/site-packages (from SQLAlchemy<3,>=1.4->langchain) (3.0.3)\r\n",
      "Requirement already satisfied: regex!=2019.12.17 in /usr/local/Caskroom/miniconda/base/envs/llama/lib/python3.10/site-packages (from transformers<5.0.0,>=4.37.0->llama-index-llms-openai-like) (2023.12.25)\r\n",
      "Requirement already satisfied: tokenizers<0.19,>=0.14 in /usr/local/Caskroom/miniconda/base/envs/llama/lib/python3.10/site-packages (from transformers<5.0.0,>=4.37.0->llama-index-llms-openai-like) (0.15.2)\r\n",
      "Requirement already satisfied: safetensors>=0.4.1 in /usr/local/Caskroom/miniconda/base/envs/llama/lib/python3.10/site-packages (from transformers<5.0.0,>=4.37.0->llama-index-llms-openai-like) (0.4.2)\r\n",
      "Requirement already satisfied: sniffio>=1.1 in /usr/local/Caskroom/miniconda/base/envs/llama/lib/python3.10/site-packages (from anyio<5,>=3->langchain-core<0.2.0,>=0.1.33->langchain) (1.3.1)\r\n",
      "Requirement already satisfied: exceptiongroup in /usr/local/Caskroom/miniconda/base/envs/llama/lib/python3.10/site-packages (from anyio<5,>=3->langchain-core<0.2.0,>=0.1.33->langchain) (1.2.0)\r\n",
      "Requirement already satisfied: soupsieve>1.2 in /usr/local/Caskroom/miniconda/base/envs/llama/lib/python3.10/site-packages (from beautifulsoup4<5.0.0,>=4.12.3->llama-index-readers-file<0.2.0,>=0.1.4->llama-index) (2.5)\r\n",
      "Requirement already satisfied: httpcore==1.* in /usr/local/Caskroom/miniconda/base/envs/llama/lib/python3.10/site-packages (from httpx->llama-index-core<0.11.0,>=0.10.27->llama-index) (1.0.4)\r\n",
      "Requirement already satisfied: h11<0.15,>=0.13 in /usr/local/Caskroom/miniconda/base/envs/llama/lib/python3.10/site-packages (from httpcore==1.*->httpx->llama-index-core<0.11.0,>=0.10.27->llama-index) (0.14.0)\r\n",
      "Requirement already satisfied: click in /usr/local/Caskroom/miniconda/base/envs/llama/lib/python3.10/site-packages (from nltk<4.0.0,>=3.8.1->llama-index-core<0.11.0,>=0.10.27->llama-index) (8.1.7)\r\n",
      "Requirement already satisfied: joblib in /usr/local/Caskroom/miniconda/base/envs/llama/lib/python3.10/site-packages (from nltk<4.0.0,>=3.8.1->llama-index-core<0.11.0,>=0.10.27->llama-index) (1.3.2)\r\n",
      "Requirement already satisfied: distro<2,>=1.7.0 in /usr/local/Caskroom/miniconda/base/envs/llama/lib/python3.10/site-packages (from openai>=1.14.0->llama-index-agent-openai<0.3.0,>=0.1.4->llama-index) (1.9.0)\r\n",
      "Requirement already satisfied: PyMuPDFb==1.24.1 in /usr/local/Caskroom/miniconda/base/envs/llama/lib/python3.10/site-packages (from pymupdf<2.0.0,>=1.23.21->llama-index-readers-file<0.2.0,>=0.1.4->llama-index) (1.24.1)\r\n",
      "Requirement already satisfied: sympy in /usr/local/Caskroom/miniconda/base/envs/llama/lib/python3.10/site-packages (from torch>=1.11.0->sentence-transformers<3.0.0,>=2.6.1->llama-index-embeddings-huggingface) (1.12)\r\n",
      "Requirement already satisfied: jinja2 in /usr/local/Caskroom/miniconda/base/envs/llama/lib/python3.10/site-packages (from torch>=1.11.0->sentence-transformers<3.0.0,>=2.6.1->llama-index-embeddings-huggingface) (3.1.3)\r\n",
      "Requirement already satisfied: mypy-extensions>=0.3.0 in /usr/local/Caskroom/miniconda/base/envs/llama/lib/python3.10/site-packages (from typing-inspect<1,>=0.4.0->dataclasses-json<0.7,>=0.5.7->langchain) (1.0.0)\r\n",
      "Requirement already satisfied: python-dateutil>=2.8.2 in /usr/local/Caskroom/miniconda/base/envs/llama/lib/python3.10/site-packages (from pandas->llama-index-core<0.11.0,>=0.10.27->llama-index) (2.9.0)\r\n",
      "Requirement already satisfied: pytz>=2020.1 in /usr/local/Caskroom/miniconda/base/envs/llama/lib/python3.10/site-packages (from pandas->llama-index-core<0.11.0,>=0.10.27->llama-index) (2024.1)\r\n",
      "Requirement already satisfied: tzdata>=2022.7 in /usr/local/Caskroom/miniconda/base/envs/llama/lib/python3.10/site-packages (from pandas->llama-index-core<0.11.0,>=0.10.27->llama-index) (2024.1)\r\n",
      "Requirement already satisfied: threadpoolctl>=2.0.0 in /usr/local/Caskroom/miniconda/base/envs/llama/lib/python3.10/site-packages (from scikit-learn->sentence-transformers<3.0.0,>=2.6.1->llama-index-embeddings-huggingface) (3.4.0)\r\n",
      "Requirement already satisfied: six>=1.5 in /usr/local/Caskroom/miniconda/base/envs/llama/lib/python3.10/site-packages (from python-dateutil>=2.8.2->pandas->llama-index-core<0.11.0,>=0.10.27->llama-index) (1.16.0)\r\n",
      "Requirement already satisfied: MarkupSafe>=2.0 in /usr/local/Caskroom/miniconda/base/envs/llama/lib/python3.10/site-packages (from jinja2->torch>=1.11.0->sentence-transformers<3.0.0,>=2.6.1->llama-index-embeddings-huggingface) (2.1.5)\r\n",
      "Requirement already satisfied: mpmath>=0.19 in /usr/local/Caskroom/miniconda/base/envs/llama/lib/python3.10/site-packages (from sympy->torch>=1.11.0->sentence-transformers<3.0.0,>=2.6.1->llama-index-embeddings-huggingface) (1.3.0)\r\n",
      "Looking in indexes: http://mirrors.aliyun.com/pypi/simple/\r\n",
      "Requirement already satisfied: EbookLib in /usr/local/Caskroom/miniconda/base/envs/llama/lib/python3.10/site-packages (0.18)\r\n",
      "Requirement already satisfied: html2text in /usr/local/Caskroom/miniconda/base/envs/llama/lib/python3.10/site-packages (2024.2.26)\r\n",
      "Requirement already satisfied: lxml in /usr/local/Caskroom/miniconda/base/envs/llama/lib/python3.10/site-packages (from EbookLib) (5.1.0)\r\n",
      "Requirement already satisfied: six in /usr/local/Caskroom/miniconda/base/envs/llama/lib/python3.10/site-packages (from EbookLib) (1.16.0)\r\n"
     ]
    }
   ],
   "source": [
    "! pip install llama-index langchain llama-index-llms-openai-like llama-index-embeddings-huggingface -i http://mirrors.aliyun.com/pypi/simple/ --trusted-host mirrors.aliyun.com\n",
    "! pip install EbookLib html2text -i http://mirrors.aliyun.com/pypi/simple/ --trusted-host mirrors.aliyun.com\n",
    "! pip install langchain_openai    "
   ]
  },
  {
   "cell_type": "markdown",
   "metadata": {},
   "source": [
    "# 使用Qwen 1.5 14B int4 模型\n",
    "\n",
    "## Llama-index与langchain调用本地模型提供的类OpenAi restful接口"
   ]
  },
  {
   "cell_type": "code",
   "metadata": {
    "jupyter": {
     "is_executing": true
    },
    "ExecuteTime": {
     "start_time": "2024-04-07T14:09:40.393943Z"
    }
   },
   "source": [
    "from llama_index.core.llms import  ChatMessage\n",
    "from llama_index.llms.openai_like import OpenAILike\n",
    "\n",
    "\n",
    "# from llama_index. import ChatMessage, OpenAILike  \n",
    "\n",
    "li_llm = OpenAILike(  \n",
    "    api_base=\"http://localhost:8000/\",  \n",
    "    timeout=600,  # secs  \n",
    "    api_key=\"loremIpsum\",  \n",
    "    is_chat_model=True,  \n",
    "    context_window=32768,  \n",
    ")  \n",
    "chat_history = [  \n",
    "    ChatMessage(role=\"system\", content=\"你是韩立\"),  \n",
    "    ChatMessage(role=\"user\", content=\"你的老婆是谁？\"),  \n",
    "]  \n",
    "output = li_llm.chat(chat_history)  \n",
    "print(output)"
   ],
   "outputs": [],
   "execution_count": null
  },
  {
   "cell_type": "code",
   "execution_count": 2,
   "metadata": {
    "ExecuteTime": {
     "end_time": "2024-04-07T12:53:45.878318Z",
     "start_time": "2024-04-07T12:51:27.039118Z"
    }
   },
   "outputs": [
    {
     "name": "stderr",
     "output_type": "stream",
     "text": [
      "/usr/local/Caskroom/miniconda/base/envs/llama/lib/python3.10/site-packages/langchain_core/_api/deprecation.py:117: LangChainDeprecationWarning: The function `__call__` was deprecated in LangChain 0.1.7 and will be removed in 0.2.0. Use invoke instead.\n",
      "  warn_deprecated(\n"
     ]
    },
    {
     "name": "stdout",
     "output_type": "stream",
     "text": [
      "作为韩立，我并没有妻子。在修真小说《凡人修仙传》中，我的身份是一介修士，专注于自身的修炼和追求长生不老之道，而不是涉足世俗的婚姻生活。故此，我并无现实中的家庭成员。\n"
     ]
    }
   ],
   "source": [
    "from langchain.schema import HumanMessage, SystemMessage  \n",
    "from langchain_openai import ChatOpenAI  \n",
    "  \n",
    "lc_llm = ChatOpenAI(  \n",
    "    openai_api_base=\"http://localhost:8000/\",  \n",
    "    request_timeout=600,  # secs, I guess.  \n",
    "    openai_api_key=\"loremIpsum\",  \n",
    "    max_tokens=32768,  \n",
    ")  \n",
    "chat_history = [  \n",
    "    SystemMessage(content=\"你是韩立\"),  \n",
    "    HumanMessage(content=\"你的老婆是谁？\"),  \n",
    "]  \n",
    "response = lc_llm(chat_history)\n",
    "print(response.content)"
   ]
  },
  {
   "cell_type": "code",
   "metadata": {
    "ExecuteTime": {
     "end_time": "2024-04-07T13:52:28.634613Z",
     "start_time": "2024-04-07T13:51:59.085966Z"
    }
   },
   "source": [
    "from llama_index.embeddings.openai import OpenAIEmbedding\n",
    "\n",
    "embed_model = OpenAIEmbedding(api_base=\"http://localhost:8000/\", api_key=\"loremIpsum\")\n",
    "em = embed_model.get_text_embedding(\"你好\")\n",
    "print(em[:4])\n",
    "print(len(em))\n",
    "em = embed_model.get_text_embedding(\"我是韩立\")\n",
    "print(em[:4])\n",
    "print(len(em))"
   ],
   "outputs": [
    {
     "name": "stdout",
     "output_type": "stream",
     "text": [
      "[0.0020857914350926876, 0.005861598998308182, -0.0001764921034919098, -0.004377344623208046]\n",
      "5120\n",
      "[0.008027427829802036, 0.011365608312189579, 0.00036368495784699917, 0.0007020579068921506]\n",
      "5120\n"
     ]
    }
   ],
   "execution_count": 5
  },
  {
   "metadata": {
    "ExecuteTime": {
     "end_time": "2024-04-07T14:09:28.832625Z",
     "start_time": "2024-04-07T14:09:28.764531Z"
    }
   },
   "cell_type": "code",
   "source": [
    "from llama_index.core import Settings\n",
    "Settings.embed_model = embed_model\n",
    "Settings.llm = li_llm"
   ],
   "outputs": [
    {
     "ename": "NameError",
     "evalue": "name 'li_llm' is not defined",
     "output_type": "error",
     "traceback": [
      "\u001B[0;31m---------------------------------------------------------------------------\u001B[0m",
      "\u001B[0;31mNameError\u001B[0m                                 Traceback (most recent call last)",
      "Cell \u001B[0;32mIn[8], line 3\u001B[0m\n\u001B[1;32m      1\u001B[0m \u001B[38;5;28;01mfrom\u001B[39;00m \u001B[38;5;21;01mllama_index\u001B[39;00m\u001B[38;5;21;01m.\u001B[39;00m\u001B[38;5;21;01mcore\u001B[39;00m \u001B[38;5;28;01mimport\u001B[39;00m Settings\n\u001B[1;32m      2\u001B[0m Settings\u001B[38;5;241m.\u001B[39membed_model \u001B[38;5;241m=\u001B[39m embed_model\n\u001B[0;32m----> 3\u001B[0m Settings\u001B[38;5;241m.\u001B[39mllm \u001B[38;5;241m=\u001B[39m \u001B[43mli_llm\u001B[49m\n",
      "\u001B[0;31mNameError\u001B[0m: name 'li_llm' is not defined"
     ]
    }
   ],
   "execution_count": 8
  },
  {
   "metadata": {},
   "cell_type": "code",
   "outputs": [],
   "execution_count": null,
   "source": [
    "from llama_index.core import ServiceContext, SimpleDirectoryReader, VectorStoreIndex\n",
    "\n",
    "\n",
    "documents = SimpleDirectoryReader(\n",
    "    input_dir=\"/Users/ezonghu/Downloads/fanren\",\n",
    ").load_data()\n",
    "index = VectorStoreIndex.from_documents(documents)"
   ]
  }
 ],
 "metadata": {
  "kernelspec": {
   "display_name": "Python 3 (ipykernel)",
   "language": "python",
   "name": "python3"
  },
  "language_info": {
   "codemirror_mode": {
    "name": "ipython",
    "version": 3
   },
   "file_extension": ".py",
   "mimetype": "text/x-python",
   "name": "python",
   "nbconvert_exporter": "python",
   "pygments_lexer": "ipython3",
   "version": "3.10.13"
  }
 },
 "nbformat": 4,
 "nbformat_minor": 2
}
